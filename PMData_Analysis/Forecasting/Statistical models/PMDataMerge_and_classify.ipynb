{
 "cells": [
  {
   "cell_type": "code",
   "execution_count": 1,
   "id": "9280d6cf",
   "metadata": {},
   "outputs": [],
   "source": [
    "import pandas as pd\n",
    "import numpy as np "
   ]
  },
  {
   "cell_type": "code",
   "execution_count": 2,
   "id": "4661b8ab",
   "metadata": {},
   "outputs": [],
   "source": [
    "columns = ['dateTime', 'sedentary', 'LPA', 'MPA', 'VPA', 'steps', 'duration_score', 'deep_sleep_in_minutes', 'resting_heart_rate', 'restlessness']"
   ]
  },
  {
   "cell_type": "code",
   "execution_count": 3,
   "id": "656801c4",
   "metadata": {},
   "outputs": [
    {
     "name": "stdout",
     "output_type": "stream",
     "text": [
      "     dateTime  sedentary  LPA  MPA  VPA  steps  duration_score  \\\n",
      "0  2019-11-01        636  245   58   72  17873            38.0   \n",
      "1  2019-11-02        709  202   43   56  13118            37.0   \n",
      "2  2019-11-03        648  262   63   45  14312            38.0   \n",
      "3  2019-11-04        760  230   23   28  10970            38.0   \n",
      "4  2019-11-05        737  263   22   56  16186            36.0   \n",
      "\n",
      "   deep_sleep_in_minutes  resting_heart_rate  restlessness  \n",
      "0                   27.0                53.0      0.053635  \n",
      "1                   36.0                53.0      0.078978  \n",
      "2                   38.0                52.0      0.093491  \n",
      "3                   37.0                53.0      0.064851  \n",
      "4                   26.0                54.0      0.093185  \n"
     ]
    },
    {
     "data": {
      "text/plain": [
       "(152, 10)"
      ]
     },
     "execution_count": 3,
     "metadata": {},
     "output_type": "execute_result"
    }
   ],
   "source": [
    "df1 = pd.read_csv(r'C:\\Users\\AyanC\\OneDrive - Universitetet i Agder\\Kalman\\p01_merged.csv')\n",
    "df1 = df1[columns]\n",
    "print (df1.head())\n",
    "df1.shape"
   ]
  },
  {
   "cell_type": "code",
   "execution_count": 4,
   "id": "ea38e746",
   "metadata": {},
   "outputs": [
    {
     "name": "stdout",
     "output_type": "stream",
     "text": [
      "(152, 10)\n",
      "     dateTime  sedentary  LPA  MPA  VPA    steps  duration_score  \\\n",
      "0  2019-11-01       1440    0    0    0    385.0            39.0   \n",
      "1  2019-11-02       1440    0    0    0  17228.0            32.0   \n",
      "2  2019-11-03       1440    0    0    0  16074.0            29.0   \n",
      "3  2019-11-04       1440    0    0    0  17375.0            39.0   \n",
      "4  2019-11-05       1424   16    0    0  18903.0            38.0   \n",
      "\n",
      "   deep_sleep_in_minutes  resting_heart_rate  restlessness  \n",
      "0                   40.0                45.0      0.152147  \n",
      "1                   72.0                46.0      0.201690  \n",
      "2                   35.0                46.0      0.075534  \n",
      "3                   76.0                48.0      0.201717  \n",
      "4                   67.0                47.0      0.137809  \n"
     ]
    },
    {
     "data": {
      "text/plain": [
       "(304, 10)"
      ]
     },
     "execution_count": 4,
     "metadata": {},
     "output_type": "execute_result"
    }
   ],
   "source": [
    "df2 = pd.read_csv(r'C:\\Users\\AyanC\\OneDrive - Universitetet i Agder\\Kalman\\p02_merged.csv')\n",
    "df2 = df2[columns]\n",
    "print (df2.shape)\n",
    "print (df2.head())\n",
    "df2 = df1.append(df2, ignore_index=True)\n",
    "df2.shape"
   ]
  },
  {
   "cell_type": "code",
   "execution_count": 5,
   "id": "be77e87e",
   "metadata": {},
   "outputs": [
    {
     "name": "stdout",
     "output_type": "stream",
     "text": [
      "(152, 10)\n",
      "     dateTime  sedentary  LPA  MPA  VPA    steps  duration_score  \\\n",
      "0  2019-11-01       1035  227    7   36  11204.0            35.0   \n",
      "1  2019-11-02        888   91   12   25   4435.0            42.0   \n",
      "2  2019-11-03       1440    0    0    0      0.0            38.0   \n",
      "3  2019-11-04       1440    0    0    0   6710.0            39.0   \n",
      "4  2019-11-05       1276  127   11   26   9079.0            29.0   \n",
      "\n",
      "   deep_sleep_in_minutes  resting_heart_rate  restlessness  \n",
      "0                   59.0                60.0      0.087740  \n",
      "1                  107.0                61.0      0.067358  \n",
      "2                   67.0                59.0      0.089757  \n",
      "3                   80.0                58.0      0.071429  \n",
      "4                   22.0                57.0      0.057831  \n"
     ]
    },
    {
     "data": {
      "text/plain": [
       "(456, 10)"
      ]
     },
     "execution_count": 5,
     "metadata": {},
     "output_type": "execute_result"
    }
   ],
   "source": [
    "df3 = pd.read_csv(r'C:\\Users\\AyanC\\OneDrive - Universitetet i Agder\\Kalman\\p03_merged.csv')\n",
    "df3 = df3[columns]\n",
    "print (df3.shape)\n",
    "print (df3.head())\n",
    "df3 = df3.append(df2, ignore_index=True)\n",
    "df3.shape"
   ]
  },
  {
   "cell_type": "code",
   "execution_count": 6,
   "id": "299d15fd",
   "metadata": {},
   "outputs": [
    {
     "name": "stdout",
     "output_type": "stream",
     "text": [
      "(152, 10)\n",
      "     dateTime  sedentary  LPA  MPA  VPA    steps  duration_score  \\\n",
      "0  2019-11-01       1440    0    0    0   9243.0            36.0   \n",
      "1  2019-11-02       1440    0    0    0  10246.0            37.0   \n",
      "2  2019-11-03       1440    0    0    0  11489.0            40.0   \n",
      "3  2019-11-04       1440    0    0    0   7587.0            44.0   \n",
      "4  2019-11-05       1390    0    0   50   4954.0            40.0   \n",
      "\n",
      "   deep_sleep_in_minutes  resting_heart_rate  restlessness  \n",
      "0                  105.0                67.0      0.105209  \n",
      "1                   91.0                66.0      0.109902  \n",
      "2                  139.0                65.0      0.103800  \n",
      "3                  108.0                66.0      0.108354  \n",
      "4                   97.0                66.0      0.077833  \n"
     ]
    },
    {
     "data": {
      "text/plain": [
       "(608, 10)"
      ]
     },
     "execution_count": 6,
     "metadata": {},
     "output_type": "execute_result"
    }
   ],
   "source": [
    "df4 = pd.read_csv(r'C:\\Users\\AyanC\\OneDrive - Universitetet i Agder\\Kalman\\p04_merged.csv')\n",
    "df4 = df4[columns]\n",
    "print (df4.shape)\n",
    "print (df4.head())\n",
    "df4 = df4.append(df3, ignore_index=True)\n",
    "df4.shape"
   ]
  },
  {
   "cell_type": "code",
   "execution_count": 7,
   "id": "edfec679",
   "metadata": {},
   "outputs": [
    {
     "name": "stdout",
     "output_type": "stream",
     "text": [
      "(152, 10)\n",
      "     dateTime  sedentary  LPA  MPA  VPA    steps  duration_score  \\\n",
      "0  2019-11-01        556  318   40   38  14306.0            42.0   \n",
      "1  2019-11-02        775  298   17   25  13349.0            34.0   \n",
      "2  2019-11-03        767  267   12   34   9037.0            25.0   \n",
      "3  2019-11-04       1103  255   34   48  13240.0            34.0   \n",
      "4  2019-11-05       1042  301   53   44  14898.0            34.0   \n",
      "\n",
      "   deep_sleep_in_minutes  resting_heart_rate  restlessness  \n",
      "0                   83.0                63.0      0.090815  \n",
      "1                   71.0                64.0      0.056836  \n",
      "2                   51.0                66.0      0.114120  \n",
      "3                   78.0                66.0      0.076716  \n",
      "4                   88.0                66.0      0.082749  \n"
     ]
    },
    {
     "data": {
      "text/plain": [
       "(760, 10)"
      ]
     },
     "execution_count": 7,
     "metadata": {},
     "output_type": "execute_result"
    }
   ],
   "source": [
    "df5 = pd.read_csv(r'C:\\Users\\AyanC\\OneDrive - Universitetet i Agder\\Kalman\\p05_merged.csv')\n",
    "df5 = df5[columns]\n",
    "print (df5.shape)\n",
    "print (df5.head())\n",
    "df5 = df5.append(df4, ignore_index=True)\n",
    "df5.shape"
   ]
  },
  {
   "cell_type": "code",
   "execution_count": 8,
   "id": "e81f8f57",
   "metadata": {},
   "outputs": [
    {
     "name": "stdout",
     "output_type": "stream",
     "text": [
      "(152, 10)\n",
      "     dateTime  sedentary  LPA  MPA  VPA  steps  duration_score  \\\n",
      "0  2019-11-01       1422   18    0    0    411            35.0   \n",
      "1  2019-11-02        544  245   27   94  21036            39.0   \n",
      "2  2019-11-03        820  204   24   29   5840            40.0   \n",
      "3  2019-11-04        605  319   26   61  16483            43.0   \n",
      "4  2019-11-05        502  280   89  146  22329            39.0   \n",
      "\n",
      "   deep_sleep_in_minutes  resting_heart_rate  restlessness  \n",
      "0                   65.0                47.0      0.067133  \n",
      "1                   76.0                49.0      0.057176  \n",
      "2                   48.0                50.0      0.041766  \n",
      "3                   61.0                50.0      0.035320  \n",
      "4                  113.0                49.0      0.042998  \n"
     ]
    },
    {
     "data": {
      "text/plain": [
       "(912, 10)"
      ]
     },
     "execution_count": 8,
     "metadata": {},
     "output_type": "execute_result"
    }
   ],
   "source": [
    "df6 = pd.read_csv(r'C:\\Users\\AyanC\\OneDrive - Universitetet i Agder\\Kalman\\p06_merged.csv')\n",
    "df6 = df6[columns]\n",
    "print (df6.shape)\n",
    "print (df6.head())\n",
    "df6 = df6.append(df5, ignore_index=True)\n",
    "df6.shape"
   ]
  },
  {
   "cell_type": "code",
   "execution_count": 9,
   "id": "8a45cce8",
   "metadata": {},
   "outputs": [
    {
     "name": "stdout",
     "output_type": "stream",
     "text": [
      "(148, 10)\n",
      "     dateTime  sedentary  LPA  MPA  VPA    steps  duration_score  \\\n",
      "0  2019-11-05       1440    0    0    0   9370.0            40.0   \n",
      "1  2019-11-06       1270   82   23   65  19979.0            37.0   \n",
      "2  2019-11-07        563  226   21  105   9614.0            41.0   \n",
      "3  2019-11-08        660  224    9   29  28445.0            41.0   \n",
      "4  2019-11-09        383  243   16  324   6203.0            39.0   \n",
      "\n",
      "   deep_sleep_in_minutes  resting_heart_rate  restlessness  \n",
      "0                  104.0                55.0      0.054002  \n",
      "1                   74.0                53.0      0.052500  \n",
      "2                   96.0                53.0      0.042448  \n",
      "3                   95.0                52.0      0.054081  \n",
      "4                   71.0                52.0      0.062681  \n"
     ]
    },
    {
     "data": {
      "text/plain": [
       "(1060, 10)"
      ]
     },
     "execution_count": 9,
     "metadata": {},
     "output_type": "execute_result"
    }
   ],
   "source": [
    "df7 = pd.read_csv(r'C:\\Users\\AyanC\\OneDrive - Universitetet i Agder\\Kalman\\p07_merged.csv')\n",
    "df7 = df7[columns]\n",
    "print (df7.shape)\n",
    "print (df7.head())\n",
    "df7 = df7.append(df6, ignore_index=True)\n",
    "df7.shape"
   ]
  },
  {
   "cell_type": "code",
   "execution_count": 10,
   "id": "0365135b",
   "metadata": {},
   "outputs": [
    {
     "name": "stdout",
     "output_type": "stream",
     "text": [
      "(143, 10)\n",
      "     dateTime  sedentary  LPA  MPA  VPA    steps  duration_score  \\\n",
      "0  2019-11-10       1440    0    0    0  14174.0            37.0   \n",
      "1  2019-11-11       1191  159    9   81  24821.0            42.0   \n",
      "2  2019-11-12        566  209   21  159  11012.0            37.0   \n",
      "3  2019-11-13        647  269   10   30  19199.0            40.0   \n",
      "4  2019-11-14        635  199   44   96  13145.0            42.0   \n",
      "\n",
      "   deep_sleep_in_minutes  resting_heart_rate  restlessness  \n",
      "0                   62.0                52.0      0.107628  \n",
      "1                   72.0                51.0      0.072572  \n",
      "2                   56.0                53.0      0.082529  \n",
      "3                   70.0                51.0      0.082699  \n",
      "4                   62.0                53.0      0.102337  \n"
     ]
    },
    {
     "data": {
      "text/plain": [
       "(1203, 10)"
      ]
     },
     "execution_count": 10,
     "metadata": {},
     "output_type": "execute_result"
    }
   ],
   "source": [
    "df8 = pd.read_csv(r'C:\\Users\\AyanC\\OneDrive - Universitetet i Agder\\Kalman\\p08_merged.csv')\n",
    "df8 = df8[columns]\n",
    "print (df8.shape)\n",
    "print (df8.head())\n",
    "df8 = df8.append(df7, ignore_index=True)\n",
    "df8.shape"
   ]
  },
  {
   "cell_type": "code",
   "execution_count": 11,
   "id": "3479b5ee",
   "metadata": {},
   "outputs": [
    {
     "name": "stdout",
     "output_type": "stream",
     "text": [
      "(152, 10)\n",
      "     dateTime  sedentary  LPA  MPA  VPA   steps  duration_score  \\\n",
      "0  2019-11-01        931  121    0    0  4014.0             3.0   \n",
      "1  2019-11-02       1372   68    0    0  2775.0            35.0   \n",
      "2  2019-11-03        746  219   14   31  9663.0            27.0   \n",
      "3  2019-11-04        874  199    0    0  6140.0            37.0   \n",
      "4  2019-11-05        834  163    4    6  5704.0            42.0   \n",
      "\n",
      "   deep_sleep_in_minutes  resting_heart_rate  restlessness  \n",
      "0                   66.0                59.0      0.110968  \n",
      "1                   92.0                60.0      0.076561  \n",
      "2                   70.0                61.0      0.073469  \n",
      "3                   69.0                60.0      0.065882  \n",
      "4                   86.0                59.0      0.073488  \n"
     ]
    },
    {
     "data": {
      "text/plain": [
       "(1355, 10)"
      ]
     },
     "execution_count": 11,
     "metadata": {},
     "output_type": "execute_result"
    }
   ],
   "source": [
    "df9 = pd.read_csv(r'C:\\Users\\AyanC\\OneDrive - Universitetet i Agder\\Kalman\\p09_merged.csv')\n",
    "df9 = df9[columns]\n",
    "print (df9.shape)\n",
    "print (df9.head())\n",
    "df9 = df9.append(df8, ignore_index=True)\n",
    "df9.shape"
   ]
  },
  {
   "cell_type": "code",
   "execution_count": 12,
   "id": "ebea9521",
   "metadata": {},
   "outputs": [
    {
     "name": "stdout",
     "output_type": "stream",
     "text": [
      "(148, 10)\n",
      "     dateTime  sedentary  LPA  MPA  VPA    steps  duration_score  \\\n",
      "0  2019-11-05       1440    0    0    0   9198.0            42.0   \n",
      "1  2019-11-06       1440    0    0    0   9865.0            38.0   \n",
      "2  2019-11-07       1309   30   39   62  13397.0            39.0   \n",
      "3  2019-11-08        549  313    0    0  15800.0            41.0   \n",
      "4  2019-11-09        617  232   24   52  13096.0            39.0   \n",
      "\n",
      "   deep_sleep_in_minutes  resting_heart_rate  restlessness  \n",
      "0                   50.0                71.0      0.146390  \n",
      "1                   75.0                70.0      0.123288  \n",
      "2                   59.0                65.0      0.120674  \n",
      "3                   82.0                65.0      0.115226  \n",
      "4                   53.0                65.0      0.121547  \n"
     ]
    },
    {
     "data": {
      "text/plain": [
       "(1503, 10)"
      ]
     },
     "execution_count": 12,
     "metadata": {},
     "output_type": "execute_result"
    }
   ],
   "source": [
    "df10 = pd.read_csv(r'C:\\Users\\AyanC\\OneDrive - Universitetet i Agder\\Kalman\\p10_merged.csv')\n",
    "df10 = df10[columns]\n",
    "print (df10.shape)\n",
    "print (df10.head())\n",
    "df10 = df10.append(df9, ignore_index=True)\n",
    "df10.shape"
   ]
  },
  {
   "cell_type": "code",
   "execution_count": 13,
   "id": "3375d95c",
   "metadata": {},
   "outputs": [
    {
     "name": "stdout",
     "output_type": "stream",
     "text": [
      "(152, 10)\n",
      "     dateTime  sedentary  LPA  MPA  VPA    steps  duration_score  \\\n",
      "0  2019-11-01       1440    0    0    0      0.0            45.0   \n",
      "1  2019-11-02       1440    0    0    0      0.0            32.0   \n",
      "2  2019-11-03       1440    0    0    0  21596.0            35.0   \n",
      "3  2019-11-04       1440    0    0    0  11560.0            36.0   \n",
      "4  2019-11-05       1440    0    0    0   2609.0            38.0   \n",
      "\n",
      "   deep_sleep_in_minutes  resting_heart_rate  restlessness  \n",
      "0                  110.0                60.0      0.073105  \n",
      "1                   76.0                64.0      0.079699  \n",
      "2                   77.0                69.0      0.080925  \n",
      "3                   89.0                66.0      0.079038  \n",
      "4                   66.0                65.0      0.073054  \n"
     ]
    },
    {
     "data": {
      "text/plain": [
       "(1655, 10)"
      ]
     },
     "execution_count": 13,
     "metadata": {},
     "output_type": "execute_result"
    }
   ],
   "source": [
    "df11 = pd.read_csv(r'C:\\Users\\AyanC\\OneDrive - Universitetet i Agder\\Kalman\\p11_merged.csv')\n",
    "df11 = df11[columns]\n",
    "print (df11.shape)\n",
    "print (df11.head())\n",
    "df11 = df11.append(df10, ignore_index=True)\n",
    "df11.shape"
   ]
  },
  {
   "cell_type": "code",
   "execution_count": 14,
   "id": "f5c9b554",
   "metadata": {},
   "outputs": [
    {
     "name": "stdout",
     "output_type": "stream",
     "text": [
      "(152, 10)\n",
      "     dateTime  sedentary  LPA  MPA  VPA    steps  duration_score  \\\n",
      "0  2019-11-01       1440    0    0    0  15051.0            42.0   \n",
      "1  2019-11-02       1440    0    0    0  15896.0            35.0   \n",
      "2  2019-11-03       1440    0    0    0   7230.0            39.0   \n",
      "3  2019-11-04       1440    0    0    0   9631.0            38.0   \n",
      "4  2019-11-05       1440    0    0    0  14562.0            35.0   \n",
      "\n",
      "   deep_sleep_in_minutes  resting_heart_rate  restlessness  \n",
      "0                   95.0                57.0      0.076229  \n",
      "1                   83.0                55.0      0.139037  \n",
      "2                   92.0                58.0      0.127505  \n",
      "3                   98.0                59.0      0.081146  \n",
      "4                   71.0                58.0      0.095471  \n"
     ]
    },
    {
     "data": {
      "text/plain": [
       "(1807, 10)"
      ]
     },
     "execution_count": 14,
     "metadata": {},
     "output_type": "execute_result"
    }
   ],
   "source": [
    "df13 = pd.read_csv(r'C:\\Users\\AyanC\\OneDrive - Universitetet i Agder\\Kalman\\p13_merged.csv')\n",
    "df13 = df13[columns]\n",
    "print (df13.shape)\n",
    "print (df13.head())\n",
    "df13 = df13.append(df11, ignore_index=True)\n",
    "df13.shape"
   ]
  },
  {
   "cell_type": "code",
   "execution_count": 15,
   "id": "2f9e86fc",
   "metadata": {},
   "outputs": [
    {
     "name": "stdout",
     "output_type": "stream",
     "text": [
      "(140, 10)\n",
      "     dateTime  sedentary  LPA  MPA  VPA    steps  duration_score  \\\n",
      "0  2019-11-13       1440    0    0    0   8725.0            35.0   \n",
      "1  2019-11-14       1266  133   23   18  16612.0            41.0   \n",
      "2  2019-11-15        629  234   37   77   6010.0            45.0   \n",
      "3  2019-11-16        373  173   13   10   8845.0            35.0   \n",
      "4  2019-11-17        660  168    9   39  10527.0            32.0   \n",
      "\n",
      "   deep_sleep_in_minutes  resting_heart_rate  restlessness  \n",
      "0                   93.0                62.0      0.069490  \n",
      "1                  108.0                66.0      0.138334  \n",
      "2                   99.0                66.0      0.097431  \n",
      "3                   83.0                64.0      0.085896  \n",
      "4                   39.0                62.0      0.112169  \n"
     ]
    },
    {
     "data": {
      "text/plain": [
       "(1947, 10)"
      ]
     },
     "execution_count": 15,
     "metadata": {},
     "output_type": "execute_result"
    }
   ],
   "source": [
    "df14 = pd.read_csv(r'C:\\Users\\AyanC\\OneDrive - Universitetet i Agder\\Kalman\\p14_merged.csv')\n",
    "df14 = df14[columns]\n",
    "print (df14.shape)\n",
    "print (df14.head())\n",
    "df14 = df14.append(df13, ignore_index=True)\n",
    "df14.shape"
   ]
  },
  {
   "cell_type": "code",
   "execution_count": 16,
   "id": "b8259856",
   "metadata": {},
   "outputs": [
    {
     "name": "stdout",
     "output_type": "stream",
     "text": [
      "(145, 10)\n",
      "     dateTime  sedentary  LPA  MPA  VPA    steps  duration_score  \\\n",
      "0  2019-11-08       1440    0    0    0   5186.0            46.0   \n",
      "1  2019-11-09       1261  159   13    7  15235.0            42.0   \n",
      "2  2019-11-10        481  237   42  125  13430.0            40.0   \n",
      "3  2019-11-11        612  229   20   50  19036.0            38.0   \n",
      "4  2019-11-12        661  201   16   99  15421.0            39.0   \n",
      "\n",
      "   deep_sleep_in_minutes  resting_heart_rate  restlessness  \n",
      "0                   64.0                58.0      0.056706  \n",
      "1                   78.0                57.0      0.062863  \n",
      "2                   45.0                57.0      0.054983  \n",
      "3                   60.0                56.0      0.067568  \n",
      "4                   39.0                56.0      0.075774  \n"
     ]
    },
    {
     "data": {
      "text/plain": [
       "(2092, 10)"
      ]
     },
     "execution_count": 16,
     "metadata": {},
     "output_type": "execute_result"
    }
   ],
   "source": [
    "df15 = pd.read_csv(r'C:\\Users\\AyanC\\OneDrive - Universitetet i Agder\\Kalman\\p15_merged.csv')\n",
    "df15 = df15[columns]\n",
    "print (df15.shape)\n",
    "print (df15.head())\n",
    "df15 = df15.append(df14, ignore_index=True)\n",
    "df15.shape"
   ]
  },
  {
   "cell_type": "code",
   "execution_count": 17,
   "id": "eec964e0",
   "metadata": {},
   "outputs": [
    {
     "name": "stdout",
     "output_type": "stream",
     "text": [
      "(152, 10)\n",
      "     dateTime  sedentary  LPA  MPA  VPA  steps  duration_score  \\\n",
      "0  2019-11-01        907  107    0    0   3062            38.0   \n",
      "1  2019-11-02        874   94    0    0   1472            38.0   \n",
      "2  2019-11-03        990   59    0    0    610            34.0   \n",
      "3  2019-11-04        740   80    8    4   2177            45.0   \n",
      "4  2019-11-05        816   67    0    0   1690            45.0   \n",
      "\n",
      "   deep_sleep_in_minutes  resting_heart_rate  restlessness  \n",
      "0                  103.0                63.0      0.078853  \n",
      "1                   75.0                65.0      0.099448  \n",
      "2                   75.0                66.0      0.134100  \n",
      "3                   99.0                67.0      0.125833  \n",
      "4                  123.0                66.0      0.122870  \n"
     ]
    },
    {
     "data": {
      "text/plain": [
       "(2244, 10)"
      ]
     },
     "execution_count": 17,
     "metadata": {},
     "output_type": "execute_result"
    }
   ],
   "source": [
    "df16 = pd.read_csv(r'C:\\Users\\AyanC\\OneDrive - Universitetet i Agder\\Kalman\\p16_merged.csv')\n",
    "df16 = df16[columns]\n",
    "print (df16.shape)\n",
    "print (df16.head())\n",
    "df16 = df16.append(df15, ignore_index=True)\n",
    "df16.shape"
   ]
  },
  {
   "cell_type": "code",
   "execution_count": 18,
   "id": "fd14f02e",
   "metadata": {},
   "outputs": [],
   "source": [
    "df = df16\n",
    "df['sleep_duration'] = 1440 - (df['VPA'] + df['MPA'] + df['LPA'] + df['sedentary'])\n",
    "df.to_csv('pmdata_merged_15.csv')"
   ]
  },
  {
   "cell_type": "code",
   "execution_count": 19,
   "id": "bc2d7e33",
   "metadata": {},
   "outputs": [
    {
     "data": {
      "text/html": [
       "<div>\n",
       "<style scoped>\n",
       "    .dataframe tbody tr th:only-of-type {\n",
       "        vertical-align: middle;\n",
       "    }\n",
       "\n",
       "    .dataframe tbody tr th {\n",
       "        vertical-align: top;\n",
       "    }\n",
       "\n",
       "    .dataframe thead th {\n",
       "        text-align: right;\n",
       "    }\n",
       "</style>\n",
       "<table border=\"1\" class=\"dataframe\">\n",
       "  <thead>\n",
       "    <tr style=\"text-align: right;\">\n",
       "      <th></th>\n",
       "      <th>dateTime</th>\n",
       "      <th>sedentary</th>\n",
       "      <th>LPA</th>\n",
       "      <th>MPA</th>\n",
       "      <th>VPA</th>\n",
       "      <th>steps</th>\n",
       "      <th>duration_score</th>\n",
       "      <th>deep_sleep_in_minutes</th>\n",
       "      <th>resting_heart_rate</th>\n",
       "      <th>restlessness</th>\n",
       "      <th>sleep_duration</th>\n",
       "    </tr>\n",
       "  </thead>\n",
       "  <tbody>\n",
       "    <tr>\n",
       "      <th>0</th>\n",
       "      <td>2019-11-01</td>\n",
       "      <td>907</td>\n",
       "      <td>107</td>\n",
       "      <td>0</td>\n",
       "      <td>0</td>\n",
       "      <td>3062.0</td>\n",
       "      <td>38.0</td>\n",
       "      <td>103.0</td>\n",
       "      <td>63.0</td>\n",
       "      <td>0.078853</td>\n",
       "      <td>426</td>\n",
       "    </tr>\n",
       "    <tr>\n",
       "      <th>1</th>\n",
       "      <td>2019-11-02</td>\n",
       "      <td>874</td>\n",
       "      <td>94</td>\n",
       "      <td>0</td>\n",
       "      <td>0</td>\n",
       "      <td>1472.0</td>\n",
       "      <td>38.0</td>\n",
       "      <td>75.0</td>\n",
       "      <td>65.0</td>\n",
       "      <td>0.099448</td>\n",
       "      <td>472</td>\n",
       "    </tr>\n",
       "    <tr>\n",
       "      <th>2</th>\n",
       "      <td>2019-11-03</td>\n",
       "      <td>990</td>\n",
       "      <td>59</td>\n",
       "      <td>0</td>\n",
       "      <td>0</td>\n",
       "      <td>610.0</td>\n",
       "      <td>34.0</td>\n",
       "      <td>75.0</td>\n",
       "      <td>66.0</td>\n",
       "      <td>0.134100</td>\n",
       "      <td>391</td>\n",
       "    </tr>\n",
       "    <tr>\n",
       "      <th>3</th>\n",
       "      <td>2019-11-04</td>\n",
       "      <td>740</td>\n",
       "      <td>80</td>\n",
       "      <td>8</td>\n",
       "      <td>4</td>\n",
       "      <td>2177.0</td>\n",
       "      <td>45.0</td>\n",
       "      <td>99.0</td>\n",
       "      <td>67.0</td>\n",
       "      <td>0.125833</td>\n",
       "      <td>608</td>\n",
       "    </tr>\n",
       "    <tr>\n",
       "      <th>4</th>\n",
       "      <td>2019-11-05</td>\n",
       "      <td>816</td>\n",
       "      <td>67</td>\n",
       "      <td>0</td>\n",
       "      <td>0</td>\n",
       "      <td>1690.0</td>\n",
       "      <td>45.0</td>\n",
       "      <td>123.0</td>\n",
       "      <td>66.0</td>\n",
       "      <td>0.122870</td>\n",
       "      <td>557</td>\n",
       "    </tr>\n",
       "    <tr>\n",
       "      <th>...</th>\n",
       "      <td>...</td>\n",
       "      <td>...</td>\n",
       "      <td>...</td>\n",
       "      <td>...</td>\n",
       "      <td>...</td>\n",
       "      <td>...</td>\n",
       "      <td>...</td>\n",
       "      <td>...</td>\n",
       "      <td>...</td>\n",
       "      <td>...</td>\n",
       "      <td>...</td>\n",
       "    </tr>\n",
       "    <tr>\n",
       "      <th>2239</th>\n",
       "      <td>2020-03-27</td>\n",
       "      <td>680</td>\n",
       "      <td>171</td>\n",
       "      <td>12</td>\n",
       "      <td>91</td>\n",
       "      <td>15137.0</td>\n",
       "      <td>0.0</td>\n",
       "      <td>0.0</td>\n",
       "      <td>0.0</td>\n",
       "      <td>0.000000</td>\n",
       "      <td>486</td>\n",
       "    </tr>\n",
       "    <tr>\n",
       "      <th>2240</th>\n",
       "      <td>2020-03-28</td>\n",
       "      <td>609</td>\n",
       "      <td>237</td>\n",
       "      <td>42</td>\n",
       "      <td>109</td>\n",
       "      <td>0.0</td>\n",
       "      <td>0.0</td>\n",
       "      <td>0.0</td>\n",
       "      <td>0.0</td>\n",
       "      <td>0.000000</td>\n",
       "      <td>443</td>\n",
       "    </tr>\n",
       "    <tr>\n",
       "      <th>2241</th>\n",
       "      <td>2020-03-29</td>\n",
       "      <td>983</td>\n",
       "      <td>77</td>\n",
       "      <td>11</td>\n",
       "      <td>115</td>\n",
       "      <td>0.0</td>\n",
       "      <td>0.0</td>\n",
       "      <td>0.0</td>\n",
       "      <td>0.0</td>\n",
       "      <td>0.000000</td>\n",
       "      <td>254</td>\n",
       "    </tr>\n",
       "    <tr>\n",
       "      <th>2242</th>\n",
       "      <td>2020-03-30</td>\n",
       "      <td>784</td>\n",
       "      <td>96</td>\n",
       "      <td>20</td>\n",
       "      <td>152</td>\n",
       "      <td>0.0</td>\n",
       "      <td>0.0</td>\n",
       "      <td>0.0</td>\n",
       "      <td>0.0</td>\n",
       "      <td>0.000000</td>\n",
       "      <td>388</td>\n",
       "    </tr>\n",
       "    <tr>\n",
       "      <th>2243</th>\n",
       "      <td>2020-03-31</td>\n",
       "      <td>663</td>\n",
       "      <td>135</td>\n",
       "      <td>29</td>\n",
       "      <td>117</td>\n",
       "      <td>0.0</td>\n",
       "      <td>0.0</td>\n",
       "      <td>0.0</td>\n",
       "      <td>0.0</td>\n",
       "      <td>0.000000</td>\n",
       "      <td>496</td>\n",
       "    </tr>\n",
       "  </tbody>\n",
       "</table>\n",
       "<p>2244 rows × 11 columns</p>\n",
       "</div>"
      ],
      "text/plain": [
       "        dateTime  sedentary  LPA  MPA  VPA    steps  duration_score  \\\n",
       "0     2019-11-01        907  107    0    0   3062.0            38.0   \n",
       "1     2019-11-02        874   94    0    0   1472.0            38.0   \n",
       "2     2019-11-03        990   59    0    0    610.0            34.0   \n",
       "3     2019-11-04        740   80    8    4   2177.0            45.0   \n",
       "4     2019-11-05        816   67    0    0   1690.0            45.0   \n",
       "...          ...        ...  ...  ...  ...      ...             ...   \n",
       "2239  2020-03-27        680  171   12   91  15137.0             0.0   \n",
       "2240  2020-03-28        609  237   42  109      0.0             0.0   \n",
       "2241  2020-03-29        983   77   11  115      0.0             0.0   \n",
       "2242  2020-03-30        784   96   20  152      0.0             0.0   \n",
       "2243  2020-03-31        663  135   29  117      0.0             0.0   \n",
       "\n",
       "      deep_sleep_in_minutes  resting_heart_rate  restlessness  sleep_duration  \n",
       "0                     103.0                63.0      0.078853             426  \n",
       "1                      75.0                65.0      0.099448             472  \n",
       "2                      75.0                66.0      0.134100             391  \n",
       "3                      99.0                67.0      0.125833             608  \n",
       "4                     123.0                66.0      0.122870             557  \n",
       "...                     ...                 ...           ...             ...  \n",
       "2239                    0.0                 0.0      0.000000             486  \n",
       "2240                    0.0                 0.0      0.000000             443  \n",
       "2241                    0.0                 0.0      0.000000             254  \n",
       "2242                    0.0                 0.0      0.000000             388  \n",
       "2243                    0.0                 0.0      0.000000             496  \n",
       "\n",
       "[2244 rows x 11 columns]"
      ]
     },
     "execution_count": 19,
     "metadata": {},
     "output_type": "execute_result"
    }
   ],
   "source": [
    "df"
   ]
  },
  {
   "cell_type": "code",
   "execution_count": 20,
   "id": "4c9fcf5b",
   "metadata": {},
   "outputs": [
    {
     "data": {
      "text/html": [
       "<div>\n",
       "<style scoped>\n",
       "    .dataframe tbody tr th:only-of-type {\n",
       "        vertical-align: middle;\n",
       "    }\n",
       "\n",
       "    .dataframe tbody tr th {\n",
       "        vertical-align: top;\n",
       "    }\n",
       "\n",
       "    .dataframe thead th {\n",
       "        text-align: right;\n",
       "    }\n",
       "</style>\n",
       "<table border=\"1\" class=\"dataframe\">\n",
       "  <thead>\n",
       "    <tr style=\"text-align: right;\">\n",
       "      <th></th>\n",
       "      <th>sedentary</th>\n",
       "      <th>LPA</th>\n",
       "      <th>MPA</th>\n",
       "      <th>VPA</th>\n",
       "      <th>steps</th>\n",
       "      <th>duration_score</th>\n",
       "      <th>deep_sleep_in_minutes</th>\n",
       "      <th>resting_heart_rate</th>\n",
       "      <th>restlessness</th>\n",
       "    </tr>\n",
       "  </thead>\n",
       "  <tbody>\n",
       "    <tr>\n",
       "      <th>0</th>\n",
       "      <td>907</td>\n",
       "      <td>107</td>\n",
       "      <td>0</td>\n",
       "      <td>0</td>\n",
       "      <td>3062.0</td>\n",
       "      <td>38.0</td>\n",
       "      <td>103.0</td>\n",
       "      <td>63.0</td>\n",
       "      <td>0.078853</td>\n",
       "    </tr>\n",
       "    <tr>\n",
       "      <th>1</th>\n",
       "      <td>874</td>\n",
       "      <td>94</td>\n",
       "      <td>0</td>\n",
       "      <td>0</td>\n",
       "      <td>1472.0</td>\n",
       "      <td>38.0</td>\n",
       "      <td>75.0</td>\n",
       "      <td>65.0</td>\n",
       "      <td>0.099448</td>\n",
       "    </tr>\n",
       "    <tr>\n",
       "      <th>2</th>\n",
       "      <td>990</td>\n",
       "      <td>59</td>\n",
       "      <td>0</td>\n",
       "      <td>0</td>\n",
       "      <td>610.0</td>\n",
       "      <td>34.0</td>\n",
       "      <td>75.0</td>\n",
       "      <td>66.0</td>\n",
       "      <td>0.134100</td>\n",
       "    </tr>\n",
       "    <tr>\n",
       "      <th>3</th>\n",
       "      <td>740</td>\n",
       "      <td>80</td>\n",
       "      <td>8</td>\n",
       "      <td>4</td>\n",
       "      <td>2177.0</td>\n",
       "      <td>45.0</td>\n",
       "      <td>99.0</td>\n",
       "      <td>67.0</td>\n",
       "      <td>0.125833</td>\n",
       "    </tr>\n",
       "    <tr>\n",
       "      <th>4</th>\n",
       "      <td>816</td>\n",
       "      <td>67</td>\n",
       "      <td>0</td>\n",
       "      <td>0</td>\n",
       "      <td>1690.0</td>\n",
       "      <td>45.0</td>\n",
       "      <td>123.0</td>\n",
       "      <td>66.0</td>\n",
       "      <td>0.122870</td>\n",
       "    </tr>\n",
       "    <tr>\n",
       "      <th>...</th>\n",
       "      <td>...</td>\n",
       "      <td>...</td>\n",
       "      <td>...</td>\n",
       "      <td>...</td>\n",
       "      <td>...</td>\n",
       "      <td>...</td>\n",
       "      <td>...</td>\n",
       "      <td>...</td>\n",
       "      <td>...</td>\n",
       "    </tr>\n",
       "    <tr>\n",
       "      <th>2239</th>\n",
       "      <td>680</td>\n",
       "      <td>171</td>\n",
       "      <td>12</td>\n",
       "      <td>91</td>\n",
       "      <td>15137.0</td>\n",
       "      <td>0.0</td>\n",
       "      <td>0.0</td>\n",
       "      <td>0.0</td>\n",
       "      <td>0.000000</td>\n",
       "    </tr>\n",
       "    <tr>\n",
       "      <th>2240</th>\n",
       "      <td>609</td>\n",
       "      <td>237</td>\n",
       "      <td>42</td>\n",
       "      <td>109</td>\n",
       "      <td>0.0</td>\n",
       "      <td>0.0</td>\n",
       "      <td>0.0</td>\n",
       "      <td>0.0</td>\n",
       "      <td>0.000000</td>\n",
       "    </tr>\n",
       "    <tr>\n",
       "      <th>2241</th>\n",
       "      <td>983</td>\n",
       "      <td>77</td>\n",
       "      <td>11</td>\n",
       "      <td>115</td>\n",
       "      <td>0.0</td>\n",
       "      <td>0.0</td>\n",
       "      <td>0.0</td>\n",
       "      <td>0.0</td>\n",
       "      <td>0.000000</td>\n",
       "    </tr>\n",
       "    <tr>\n",
       "      <th>2242</th>\n",
       "      <td>784</td>\n",
       "      <td>96</td>\n",
       "      <td>20</td>\n",
       "      <td>152</td>\n",
       "      <td>0.0</td>\n",
       "      <td>0.0</td>\n",
       "      <td>0.0</td>\n",
       "      <td>0.0</td>\n",
       "      <td>0.000000</td>\n",
       "    </tr>\n",
       "    <tr>\n",
       "      <th>2243</th>\n",
       "      <td>663</td>\n",
       "      <td>135</td>\n",
       "      <td>29</td>\n",
       "      <td>117</td>\n",
       "      <td>0.0</td>\n",
       "      <td>0.0</td>\n",
       "      <td>0.0</td>\n",
       "      <td>0.0</td>\n",
       "      <td>0.000000</td>\n",
       "    </tr>\n",
       "  </tbody>\n",
       "</table>\n",
       "<p>2244 rows × 9 columns</p>\n",
       "</div>"
      ],
      "text/plain": [
       "      sedentary  LPA  MPA  VPA    steps  duration_score  \\\n",
       "0           907  107    0    0   3062.0            38.0   \n",
       "1           874   94    0    0   1472.0            38.0   \n",
       "2           990   59    0    0    610.0            34.0   \n",
       "3           740   80    8    4   2177.0            45.0   \n",
       "4           816   67    0    0   1690.0            45.0   \n",
       "...         ...  ...  ...  ...      ...             ...   \n",
       "2239        680  171   12   91  15137.0             0.0   \n",
       "2240        609  237   42  109      0.0             0.0   \n",
       "2241        983   77   11  115      0.0             0.0   \n",
       "2242        784   96   20  152      0.0             0.0   \n",
       "2243        663  135   29  117      0.0             0.0   \n",
       "\n",
       "      deep_sleep_in_minutes  resting_heart_rate  restlessness  \n",
       "0                     103.0                63.0      0.078853  \n",
       "1                      75.0                65.0      0.099448  \n",
       "2                      75.0                66.0      0.134100  \n",
       "3                      99.0                67.0      0.125833  \n",
       "4                     123.0                66.0      0.122870  \n",
       "...                     ...                 ...           ...  \n",
       "2239                    0.0                 0.0      0.000000  \n",
       "2240                    0.0                 0.0      0.000000  \n",
       "2241                    0.0                 0.0      0.000000  \n",
       "2242                    0.0                 0.0      0.000000  \n",
       "2243                    0.0                 0.0      0.000000  \n",
       "\n",
       "[2244 rows x 9 columns]"
      ]
     },
     "execution_count": 20,
     "metadata": {},
     "output_type": "execute_result"
    }
   ],
   "source": [
    "columns = ['sedentary', 'LPA', 'MPA', 'VPA', 'steps', 'duration_score', 'deep_sleep_in_minutes', 'resting_heart_rate', 'restlessness']\n",
    "df = df [columns]\n",
    "df"
   ]
  },
  {
   "cell_type": "code",
   "execution_count": 21,
   "id": "42cf6857",
   "metadata": {},
   "outputs": [],
   "source": [
    "#df.plot.bar(colormap=\"Greens\")"
   ]
  },
  {
   "cell_type": "code",
   "execution_count": 22,
   "id": "8c8a1f87",
   "metadata": {},
   "outputs": [
    {
     "data": {
      "text/html": [
       "<style  type=\"text/css\" >\n",
       "#T_470f5dac_b1c2_11ec_9e8b_d0abd5a0d321row0_col0,#T_470f5dac_b1c2_11ec_9e8b_d0abd5a0d321row1_col1,#T_470f5dac_b1c2_11ec_9e8b_d0abd5a0d321row2_col2,#T_470f5dac_b1c2_11ec_9e8b_d0abd5a0d321row3_col3,#T_470f5dac_b1c2_11ec_9e8b_d0abd5a0d321row4_col4,#T_470f5dac_b1c2_11ec_9e8b_d0abd5a0d321row5_col5,#T_470f5dac_b1c2_11ec_9e8b_d0abd5a0d321row6_col6,#T_470f5dac_b1c2_11ec_9e8b_d0abd5a0d321row7_col7,#T_470f5dac_b1c2_11ec_9e8b_d0abd5a0d321row8_col8{\n",
       "            background-color:  #b40426;\n",
       "            color:  #f1f1f1;\n",
       "        }#T_470f5dac_b1c2_11ec_9e8b_d0abd5a0d321row0_col1,#T_470f5dac_b1c2_11ec_9e8b_d0abd5a0d321row0_col2,#T_470f5dac_b1c2_11ec_9e8b_d0abd5a0d321row0_col3,#T_470f5dac_b1c2_11ec_9e8b_d0abd5a0d321row0_col4,#T_470f5dac_b1c2_11ec_9e8b_d0abd5a0d321row0_col5,#T_470f5dac_b1c2_11ec_9e8b_d0abd5a0d321row0_col6,#T_470f5dac_b1c2_11ec_9e8b_d0abd5a0d321row0_col7,#T_470f5dac_b1c2_11ec_9e8b_d0abd5a0d321row0_col8,#T_470f5dac_b1c2_11ec_9e8b_d0abd5a0d321row1_col0{\n",
       "            background-color:  #3b4cc0;\n",
       "            color:  #f1f1f1;\n",
       "        }#T_470f5dac_b1c2_11ec_9e8b_d0abd5a0d321row1_col2,#T_470f5dac_b1c2_11ec_9e8b_d0abd5a0d321row4_col3{\n",
       "            background-color:  #f5c1a9;\n",
       "            color:  #000000;\n",
       "        }#T_470f5dac_b1c2_11ec_9e8b_d0abd5a0d321row1_col3{\n",
       "            background-color:  #d6dce4;\n",
       "            color:  #000000;\n",
       "        }#T_470f5dac_b1c2_11ec_9e8b_d0abd5a0d321row1_col4{\n",
       "            background-color:  #f3c8b2;\n",
       "            color:  #000000;\n",
       "        }#T_470f5dac_b1c2_11ec_9e8b_d0abd5a0d321row1_col5{\n",
       "            background-color:  #e0dbd8;\n",
       "            color:  #000000;\n",
       "        }#T_470f5dac_b1c2_11ec_9e8b_d0abd5a0d321row1_col6,#T_470f5dac_b1c2_11ec_9e8b_d0abd5a0d321row7_col3{\n",
       "            background-color:  #b6cefa;\n",
       "            color:  #000000;\n",
       "        }#T_470f5dac_b1c2_11ec_9e8b_d0abd5a0d321row1_col7{\n",
       "            background-color:  #cdd9ec;\n",
       "            color:  #000000;\n",
       "        }#T_470f5dac_b1c2_11ec_9e8b_d0abd5a0d321row1_col8{\n",
       "            background-color:  #92b4fe;\n",
       "            color:  #000000;\n",
       "        }#T_470f5dac_b1c2_11ec_9e8b_d0abd5a0d321row2_col0{\n",
       "            background-color:  #6b8df0;\n",
       "            color:  #000000;\n",
       "        }#T_470f5dac_b1c2_11ec_9e8b_d0abd5a0d321row2_col1{\n",
       "            background-color:  #f7b093;\n",
       "            color:  #000000;\n",
       "        }#T_470f5dac_b1c2_11ec_9e8b_d0abd5a0d321row2_col3,#T_470f5dac_b1c2_11ec_9e8b_d0abd5a0d321row3_col2{\n",
       "            background-color:  #f5c4ac;\n",
       "            color:  #000000;\n",
       "        }#T_470f5dac_b1c2_11ec_9e8b_d0abd5a0d321row2_col4{\n",
       "            background-color:  #e7d7ce;\n",
       "            color:  #000000;\n",
       "        }#T_470f5dac_b1c2_11ec_9e8b_d0abd5a0d321row2_col5,#T_470f5dac_b1c2_11ec_9e8b_d0abd5a0d321row4_col8{\n",
       "            background-color:  #bcd2f7;\n",
       "            color:  #000000;\n",
       "        }#T_470f5dac_b1c2_11ec_9e8b_d0abd5a0d321row2_col6,#T_470f5dac_b1c2_11ec_9e8b_d0abd5a0d321row6_col0{\n",
       "            background-color:  #90b2fe;\n",
       "            color:  #000000;\n",
       "        }#T_470f5dac_b1c2_11ec_9e8b_d0abd5a0d321row2_col7{\n",
       "            background-color:  #a9c6fd;\n",
       "            color:  #000000;\n",
       "        }#T_470f5dac_b1c2_11ec_9e8b_d0abd5a0d321row2_col8{\n",
       "            background-color:  #7b9ff9;\n",
       "            color:  #000000;\n",
       "        }#T_470f5dac_b1c2_11ec_9e8b_d0abd5a0d321row3_col0{\n",
       "            background-color:  #688aef;\n",
       "            color:  #000000;\n",
       "        }#T_470f5dac_b1c2_11ec_9e8b_d0abd5a0d321row3_col1,#T_470f5dac_b1c2_11ec_9e8b_d0abd5a0d321row4_col2{\n",
       "            background-color:  #ead5c9;\n",
       "            color:  #000000;\n",
       "        }#T_470f5dac_b1c2_11ec_9e8b_d0abd5a0d321row3_col4{\n",
       "            background-color:  #f4c5ad;\n",
       "            color:  #000000;\n",
       "        }#T_470f5dac_b1c2_11ec_9e8b_d0abd5a0d321row3_col5{\n",
       "            background-color:  #c3d5f4;\n",
       "            color:  #000000;\n",
       "        }#T_470f5dac_b1c2_11ec_9e8b_d0abd5a0d321row3_col6,#T_470f5dac_b1c2_11ec_9e8b_d0abd5a0d321row7_col0{\n",
       "            background-color:  #84a7fc;\n",
       "            color:  #000000;\n",
       "        }#T_470f5dac_b1c2_11ec_9e8b_d0abd5a0d321row3_col7{\n",
       "            background-color:  #a2c1ff;\n",
       "            color:  #000000;\n",
       "        }#T_470f5dac_b1c2_11ec_9e8b_d0abd5a0d321row3_col8{\n",
       "            background-color:  #a3c2fe;\n",
       "            color:  #000000;\n",
       "        }#T_470f5dac_b1c2_11ec_9e8b_d0abd5a0d321row4_col0{\n",
       "            background-color:  #7295f4;\n",
       "            color:  #000000;\n",
       "        }#T_470f5dac_b1c2_11ec_9e8b_d0abd5a0d321row4_col1{\n",
       "            background-color:  #f7b497;\n",
       "            color:  #000000;\n",
       "        }#T_470f5dac_b1c2_11ec_9e8b_d0abd5a0d321row4_col5{\n",
       "            background-color:  #f1cdba;\n",
       "            color:  #000000;\n",
       "        }#T_470f5dac_b1c2_11ec_9e8b_d0abd5a0d321row4_col6{\n",
       "            background-color:  #bfd3f6;\n",
       "            color:  #000000;\n",
       "        }#T_470f5dac_b1c2_11ec_9e8b_d0abd5a0d321row4_col7{\n",
       "            background-color:  #dedcdb;\n",
       "            color:  #000000;\n",
       "        }#T_470f5dac_b1c2_11ec_9e8b_d0abd5a0d321row5_col0{\n",
       "            background-color:  #799cf8;\n",
       "            color:  #000000;\n",
       "        }#T_470f5dac_b1c2_11ec_9e8b_d0abd5a0d321row5_col1{\n",
       "            background-color:  #f2c9b4;\n",
       "            color:  #000000;\n",
       "        }#T_470f5dac_b1c2_11ec_9e8b_d0abd5a0d321row5_col2{\n",
       "            background-color:  #c6d6f1;\n",
       "            color:  #000000;\n",
       "        }#T_470f5dac_b1c2_11ec_9e8b_d0abd5a0d321row5_col3{\n",
       "            background-color:  #ccd9ed;\n",
       "            color:  #000000;\n",
       "        }#T_470f5dac_b1c2_11ec_9e8b_d0abd5a0d321row5_col4,#T_470f5dac_b1c2_11ec_9e8b_d0abd5a0d321row6_col8{\n",
       "            background-color:  #f2cab5;\n",
       "            color:  #000000;\n",
       "        }#T_470f5dac_b1c2_11ec_9e8b_d0abd5a0d321row5_col6{\n",
       "            background-color:  #e57058;\n",
       "            color:  #000000;\n",
       "        }#T_470f5dac_b1c2_11ec_9e8b_d0abd5a0d321row5_col7{\n",
       "            background-color:  #c83836;\n",
       "            color:  #f1f1f1;\n",
       "        }#T_470f5dac_b1c2_11ec_9e8b_d0abd5a0d321row5_col8{\n",
       "            background-color:  #f7aa8c;\n",
       "            color:  #000000;\n",
       "        }#T_470f5dac_b1c2_11ec_9e8b_d0abd5a0d321row6_col1{\n",
       "            background-color:  #e5d8d1;\n",
       "            color:  #000000;\n",
       "        }#T_470f5dac_b1c2_11ec_9e8b_d0abd5a0d321row6_col2{\n",
       "            background-color:  #b1cbfc;\n",
       "            color:  #000000;\n",
       "        }#T_470f5dac_b1c2_11ec_9e8b_d0abd5a0d321row6_col3{\n",
       "            background-color:  #a7c5fe;\n",
       "            color:  #000000;\n",
       "        }#T_470f5dac_b1c2_11ec_9e8b_d0abd5a0d321row6_col4{\n",
       "            background-color:  #d3dbe7;\n",
       "            color:  #000000;\n",
       "        }#T_470f5dac_b1c2_11ec_9e8b_d0abd5a0d321row6_col5{\n",
       "            background-color:  #e36b54;\n",
       "            color:  #000000;\n",
       "        }#T_470f5dac_b1c2_11ec_9e8b_d0abd5a0d321row6_col7{\n",
       "            background-color:  #e7745b;\n",
       "            color:  #000000;\n",
       "        }#T_470f5dac_b1c2_11ec_9e8b_d0abd5a0d321row7_col1{\n",
       "            background-color:  #edd2c3;\n",
       "            color:  #000000;\n",
       "        }#T_470f5dac_b1c2_11ec_9e8b_d0abd5a0d321row7_col2{\n",
       "            background-color:  #bbd1f8;\n",
       "            color:  #000000;\n",
       "        }#T_470f5dac_b1c2_11ec_9e8b_d0abd5a0d321row7_col4{\n",
       "            background-color:  #e6d7cf;\n",
       "            color:  #000000;\n",
       "        }#T_470f5dac_b1c2_11ec_9e8b_d0abd5a0d321row7_col5{\n",
       "            background-color:  #c73635;\n",
       "            color:  #f1f1f1;\n",
       "        }#T_470f5dac_b1c2_11ec_9e8b_d0abd5a0d321row7_col6{\n",
       "            background-color:  #e9785d;\n",
       "            color:  #000000;\n",
       "        }#T_470f5dac_b1c2_11ec_9e8b_d0abd5a0d321row7_col8{\n",
       "            background-color:  #f39577;\n",
       "            color:  #000000;\n",
       "        }#T_470f5dac_b1c2_11ec_9e8b_d0abd5a0d321row8_col0{\n",
       "            background-color:  #98b9ff;\n",
       "            color:  #000000;\n",
       "        }#T_470f5dac_b1c2_11ec_9e8b_d0abd5a0d321row8_col1,#T_470f5dac_b1c2_11ec_9e8b_d0abd5a0d321row8_col4{\n",
       "            background-color:  #d5dbe5;\n",
       "            color:  #000000;\n",
       "        }#T_470f5dac_b1c2_11ec_9e8b_d0abd5a0d321row8_col2{\n",
       "            background-color:  #a6c4fe;\n",
       "            color:  #000000;\n",
       "        }#T_470f5dac_b1c2_11ec_9e8b_d0abd5a0d321row8_col3{\n",
       "            background-color:  #c7d7f0;\n",
       "            color:  #000000;\n",
       "        }#T_470f5dac_b1c2_11ec_9e8b_d0abd5a0d321row8_col5{\n",
       "            background-color:  #f59d7e;\n",
       "            color:  #000000;\n",
       "        }#T_470f5dac_b1c2_11ec_9e8b_d0abd5a0d321row8_col6{\n",
       "            background-color:  #f3c7b1;\n",
       "            color:  #000000;\n",
       "        }#T_470f5dac_b1c2_11ec_9e8b_d0abd5a0d321row8_col7{\n",
       "            background-color:  #f18d6f;\n",
       "            color:  #000000;\n",
       "        }</style><table id=\"T_470f5dac_b1c2_11ec_9e8b_d0abd5a0d321\" ><thead>    <tr>        <th class=\"blank level0\" ></th>        <th class=\"col_heading level0 col0\" >sedentary</th>        <th class=\"col_heading level0 col1\" >LPA</th>        <th class=\"col_heading level0 col2\" >MPA</th>        <th class=\"col_heading level0 col3\" >VPA</th>        <th class=\"col_heading level0 col4\" >steps</th>        <th class=\"col_heading level0 col5\" >duration_score</th>        <th class=\"col_heading level0 col6\" >deep_sleep_in_minutes</th>        <th class=\"col_heading level0 col7\" >resting_heart_rate</th>        <th class=\"col_heading level0 col8\" >restlessness</th>    </tr></thead><tbody>\n",
       "                <tr>\n",
       "                        <th id=\"T_470f5dac_b1c2_11ec_9e8b_d0abd5a0d321level0_row0\" class=\"row_heading level0 row0\" >sedentary</th>\n",
       "                        <td id=\"T_470f5dac_b1c2_11ec_9e8b_d0abd5a0d321row0_col0\" class=\"data row0 col0\" >1.000000</td>\n",
       "                        <td id=\"T_470f5dac_b1c2_11ec_9e8b_d0abd5a0d321row0_col1\" class=\"data row0 col1\" >-0.718884</td>\n",
       "                        <td id=\"T_470f5dac_b1c2_11ec_9e8b_d0abd5a0d321row0_col2\" class=\"data row0 col2\" >-0.454722</td>\n",
       "                        <td id=\"T_470f5dac_b1c2_11ec_9e8b_d0abd5a0d321row0_col3\" class=\"data row0 col3\" >-0.464515</td>\n",
       "                        <td id=\"T_470f5dac_b1c2_11ec_9e8b_d0abd5a0d321row0_col4\" class=\"data row0 col4\" >-0.422799</td>\n",
       "                        <td id=\"T_470f5dac_b1c2_11ec_9e8b_d0abd5a0d321row0_col5\" class=\"data row0 col5\" >-0.385324</td>\n",
       "                        <td id=\"T_470f5dac_b1c2_11ec_9e8b_d0abd5a0d321row0_col6\" class=\"data row0 col6\" >-0.270165</td>\n",
       "                        <td id=\"T_470f5dac_b1c2_11ec_9e8b_d0abd5a0d321row0_col7\" class=\"data row0 col7\" >-0.334563</td>\n",
       "                        <td id=\"T_470f5dac_b1c2_11ec_9e8b_d0abd5a0d321row0_col8\" class=\"data row0 col8\" >-0.234551</td>\n",
       "            </tr>\n",
       "            <tr>\n",
       "                        <th id=\"T_470f5dac_b1c2_11ec_9e8b_d0abd5a0d321level0_row1\" class=\"row_heading level0 row1\" >LPA</th>\n",
       "                        <td id=\"T_470f5dac_b1c2_11ec_9e8b_d0abd5a0d321row1_col0\" class=\"data row1 col0\" >-0.718884</td>\n",
       "                        <td id=\"T_470f5dac_b1c2_11ec_9e8b_d0abd5a0d321row1_col1\" class=\"data row1 col1\" >1.000000</td>\n",
       "                        <td id=\"T_470f5dac_b1c2_11ec_9e8b_d0abd5a0d321row1_col2\" class=\"data row1 col2\" >0.469349</td>\n",
       "                        <td id=\"T_470f5dac_b1c2_11ec_9e8b_d0abd5a0d321row1_col3\" class=\"data row1 col3\" >0.229239</td>\n",
       "                        <td id=\"T_470f5dac_b1c2_11ec_9e8b_d0abd5a0d321row1_col4\" class=\"data row1 col4\" >0.446568</td>\n",
       "                        <td id=\"T_470f5dac_b1c2_11ec_9e8b_d0abd5a0d321row1_col5\" class=\"data row1 col5\" >0.328399</td>\n",
       "                        <td id=\"T_470f5dac_b1c2_11ec_9e8b_d0abd5a0d321row1_col6\" class=\"data row1 col6\" >0.198370</td>\n",
       "                        <td id=\"T_470f5dac_b1c2_11ec_9e8b_d0abd5a0d321row1_col7\" class=\"data row1 col7\" >0.258089</td>\n",
       "                        <td id=\"T_470f5dac_b1c2_11ec_9e8b_d0abd5a0d321row1_col8\" class=\"data row1 col8\" >0.093006</td>\n",
       "            </tr>\n",
       "            <tr>\n",
       "                        <th id=\"T_470f5dac_b1c2_11ec_9e8b_d0abd5a0d321level0_row2\" class=\"row_heading level0 row2\" >MPA</th>\n",
       "                        <td id=\"T_470f5dac_b1c2_11ec_9e8b_d0abd5a0d321row2_col0\" class=\"data row2 col0\" >-0.454722</td>\n",
       "                        <td id=\"T_470f5dac_b1c2_11ec_9e8b_d0abd5a0d321row2_col1\" class=\"data row2 col1\" >0.469349</td>\n",
       "                        <td id=\"T_470f5dac_b1c2_11ec_9e8b_d0abd5a0d321row2_col2\" class=\"data row2 col2\" >1.000000</td>\n",
       "                        <td id=\"T_470f5dac_b1c2_11ec_9e8b_d0abd5a0d321row2_col3\" class=\"data row2 col3\" >0.455061</td>\n",
       "                        <td id=\"T_470f5dac_b1c2_11ec_9e8b_d0abd5a0d321row2_col4\" class=\"data row2 col4\" >0.347788</td>\n",
       "                        <td id=\"T_470f5dac_b1c2_11ec_9e8b_d0abd5a0d321row2_col5\" class=\"data row2 col5\" >0.155421</td>\n",
       "                        <td id=\"T_470f5dac_b1c2_11ec_9e8b_d0abd5a0d321row2_col6\" class=\"data row2 col6\" >0.059540</td>\n",
       "                        <td id=\"T_470f5dac_b1c2_11ec_9e8b_d0abd5a0d321row2_col7\" class=\"data row2 col7\" >0.106466</td>\n",
       "                        <td id=\"T_470f5dac_b1c2_11ec_9e8b_d0abd5a0d321row2_col8\" class=\"data row2 col8\" >0.012213</td>\n",
       "            </tr>\n",
       "            <tr>\n",
       "                        <th id=\"T_470f5dac_b1c2_11ec_9e8b_d0abd5a0d321level0_row3\" class=\"row_heading level0 row3\" >VPA</th>\n",
       "                        <td id=\"T_470f5dac_b1c2_11ec_9e8b_d0abd5a0d321row3_col0\" class=\"data row3 col0\" >-0.464515</td>\n",
       "                        <td id=\"T_470f5dac_b1c2_11ec_9e8b_d0abd5a0d321row3_col1\" class=\"data row3 col1\" >0.229239</td>\n",
       "                        <td id=\"T_470f5dac_b1c2_11ec_9e8b_d0abd5a0d321row3_col2\" class=\"data row3 col2\" >0.455061</td>\n",
       "                        <td id=\"T_470f5dac_b1c2_11ec_9e8b_d0abd5a0d321row3_col3\" class=\"data row3 col3\" >1.000000</td>\n",
       "                        <td id=\"T_470f5dac_b1c2_11ec_9e8b_d0abd5a0d321row3_col4\" class=\"data row3 col4\" >0.462291</td>\n",
       "                        <td id=\"T_470f5dac_b1c2_11ec_9e8b_d0abd5a0d321row3_col5\" class=\"data row3 col5\" >0.179690</td>\n",
       "                        <td id=\"T_470f5dac_b1c2_11ec_9e8b_d0abd5a0d321row3_col6\" class=\"data row3 col6\" >0.015035</td>\n",
       "                        <td id=\"T_470f5dac_b1c2_11ec_9e8b_d0abd5a0d321row3_col7\" class=\"data row3 col7\" >0.077534</td>\n",
       "                        <td id=\"T_470f5dac_b1c2_11ec_9e8b_d0abd5a0d321row3_col8\" class=\"data row3 col8\" >0.154005</td>\n",
       "            </tr>\n",
       "            <tr>\n",
       "                        <th id=\"T_470f5dac_b1c2_11ec_9e8b_d0abd5a0d321level0_row4\" class=\"row_heading level0 row4\" >steps</th>\n",
       "                        <td id=\"T_470f5dac_b1c2_11ec_9e8b_d0abd5a0d321row4_col0\" class=\"data row4 col0\" >-0.422799</td>\n",
       "                        <td id=\"T_470f5dac_b1c2_11ec_9e8b_d0abd5a0d321row4_col1\" class=\"data row4 col1\" >0.446568</td>\n",
       "                        <td id=\"T_470f5dac_b1c2_11ec_9e8b_d0abd5a0d321row4_col2\" class=\"data row4 col2\" >0.347788</td>\n",
       "                        <td id=\"T_470f5dac_b1c2_11ec_9e8b_d0abd5a0d321row4_col3\" class=\"data row4 col3\" >0.462291</td>\n",
       "                        <td id=\"T_470f5dac_b1c2_11ec_9e8b_d0abd5a0d321row4_col4\" class=\"data row4 col4\" >1.000000</td>\n",
       "                        <td id=\"T_470f5dac_b1c2_11ec_9e8b_d0abd5a0d321row4_col5\" class=\"data row4 col5\" >0.434285</td>\n",
       "                        <td id=\"T_470f5dac_b1c2_11ec_9e8b_d0abd5a0d321row4_col6\" class=\"data row4 col6\" >0.234244</td>\n",
       "                        <td id=\"T_470f5dac_b1c2_11ec_9e8b_d0abd5a0d321row4_col7\" class=\"data row4 col7\" >0.339929</td>\n",
       "                        <td id=\"T_470f5dac_b1c2_11ec_9e8b_d0abd5a0d321row4_col8\" class=\"data row4 col8\" >0.245445</td>\n",
       "            </tr>\n",
       "            <tr>\n",
       "                        <th id=\"T_470f5dac_b1c2_11ec_9e8b_d0abd5a0d321level0_row5\" class=\"row_heading level0 row5\" >duration_score</th>\n",
       "                        <td id=\"T_470f5dac_b1c2_11ec_9e8b_d0abd5a0d321row5_col0\" class=\"data row5 col0\" >-0.385324</td>\n",
       "                        <td id=\"T_470f5dac_b1c2_11ec_9e8b_d0abd5a0d321row5_col1\" class=\"data row5 col1\" >0.328399</td>\n",
       "                        <td id=\"T_470f5dac_b1c2_11ec_9e8b_d0abd5a0d321row5_col2\" class=\"data row5 col2\" >0.155421</td>\n",
       "                        <td id=\"T_470f5dac_b1c2_11ec_9e8b_d0abd5a0d321row5_col3\" class=\"data row5 col3\" >0.179690</td>\n",
       "                        <td id=\"T_470f5dac_b1c2_11ec_9e8b_d0abd5a0d321row5_col4\" class=\"data row5 col4\" >0.434285</td>\n",
       "                        <td id=\"T_470f5dac_b1c2_11ec_9e8b_d0abd5a0d321row5_col5\" class=\"data row5 col5\" >1.000000</td>\n",
       "                        <td id=\"T_470f5dac_b1c2_11ec_9e8b_d0abd5a0d321row5_col6\" class=\"data row5 col6\" >0.798753</td>\n",
       "                        <td id=\"T_470f5dac_b1c2_11ec_9e8b_d0abd5a0d321row5_col7\" class=\"data row5 col7\" >0.924771</td>\n",
       "                        <td id=\"T_470f5dac_b1c2_11ec_9e8b_d0abd5a0d321row5_col8\" class=\"data row5 col8\" >0.638085</td>\n",
       "            </tr>\n",
       "            <tr>\n",
       "                        <th id=\"T_470f5dac_b1c2_11ec_9e8b_d0abd5a0d321level0_row6\" class=\"row_heading level0 row6\" >deep_sleep_in_minutes</th>\n",
       "                        <td id=\"T_470f5dac_b1c2_11ec_9e8b_d0abd5a0d321row6_col0\" class=\"data row6 col0\" >-0.270165</td>\n",
       "                        <td id=\"T_470f5dac_b1c2_11ec_9e8b_d0abd5a0d321row6_col1\" class=\"data row6 col1\" >0.198370</td>\n",
       "                        <td id=\"T_470f5dac_b1c2_11ec_9e8b_d0abd5a0d321row6_col2\" class=\"data row6 col2\" >0.059540</td>\n",
       "                        <td id=\"T_470f5dac_b1c2_11ec_9e8b_d0abd5a0d321row6_col3\" class=\"data row6 col3\" >0.015035</td>\n",
       "                        <td id=\"T_470f5dac_b1c2_11ec_9e8b_d0abd5a0d321row6_col4\" class=\"data row6 col4\" >0.234244</td>\n",
       "                        <td id=\"T_470f5dac_b1c2_11ec_9e8b_d0abd5a0d321row6_col5\" class=\"data row6 col5\" >0.798753</td>\n",
       "                        <td id=\"T_470f5dac_b1c2_11ec_9e8b_d0abd5a0d321row6_col6\" class=\"data row6 col6\" >1.000000</td>\n",
       "                        <td id=\"T_470f5dac_b1c2_11ec_9e8b_d0abd5a0d321row6_col7\" class=\"data row6 col7\" >0.779986</td>\n",
       "                        <td id=\"T_470f5dac_b1c2_11ec_9e8b_d0abd5a0d321row6_col8\" class=\"data row6 col8\" >0.511395</td>\n",
       "            </tr>\n",
       "            <tr>\n",
       "                        <th id=\"T_470f5dac_b1c2_11ec_9e8b_d0abd5a0d321level0_row7\" class=\"row_heading level0 row7\" >resting_heart_rate</th>\n",
       "                        <td id=\"T_470f5dac_b1c2_11ec_9e8b_d0abd5a0d321row7_col0\" class=\"data row7 col0\" >-0.334563</td>\n",
       "                        <td id=\"T_470f5dac_b1c2_11ec_9e8b_d0abd5a0d321row7_col1\" class=\"data row7 col1\" >0.258089</td>\n",
       "                        <td id=\"T_470f5dac_b1c2_11ec_9e8b_d0abd5a0d321row7_col2\" class=\"data row7 col2\" >0.106466</td>\n",
       "                        <td id=\"T_470f5dac_b1c2_11ec_9e8b_d0abd5a0d321row7_col3\" class=\"data row7 col3\" >0.077534</td>\n",
       "                        <td id=\"T_470f5dac_b1c2_11ec_9e8b_d0abd5a0d321row7_col4\" class=\"data row7 col4\" >0.339929</td>\n",
       "                        <td id=\"T_470f5dac_b1c2_11ec_9e8b_d0abd5a0d321row7_col5\" class=\"data row7 col5\" >0.924771</td>\n",
       "                        <td id=\"T_470f5dac_b1c2_11ec_9e8b_d0abd5a0d321row7_col6\" class=\"data row7 col6\" >0.779986</td>\n",
       "                        <td id=\"T_470f5dac_b1c2_11ec_9e8b_d0abd5a0d321row7_col7\" class=\"data row7 col7\" >1.000000</td>\n",
       "                        <td id=\"T_470f5dac_b1c2_11ec_9e8b_d0abd5a0d321row7_col8\" class=\"data row7 col8\" >0.705625</td>\n",
       "            </tr>\n",
       "            <tr>\n",
       "                        <th id=\"T_470f5dac_b1c2_11ec_9e8b_d0abd5a0d321level0_row8\" class=\"row_heading level0 row8\" >restlessness</th>\n",
       "                        <td id=\"T_470f5dac_b1c2_11ec_9e8b_d0abd5a0d321row8_col0\" class=\"data row8 col0\" >-0.234551</td>\n",
       "                        <td id=\"T_470f5dac_b1c2_11ec_9e8b_d0abd5a0d321row8_col1\" class=\"data row8 col1\" >0.093006</td>\n",
       "                        <td id=\"T_470f5dac_b1c2_11ec_9e8b_d0abd5a0d321row8_col2\" class=\"data row8 col2\" >0.012213</td>\n",
       "                        <td id=\"T_470f5dac_b1c2_11ec_9e8b_d0abd5a0d321row8_col3\" class=\"data row8 col3\" >0.154005</td>\n",
       "                        <td id=\"T_470f5dac_b1c2_11ec_9e8b_d0abd5a0d321row8_col4\" class=\"data row8 col4\" >0.245445</td>\n",
       "                        <td id=\"T_470f5dac_b1c2_11ec_9e8b_d0abd5a0d321row8_col5\" class=\"data row8 col5\" >0.638085</td>\n",
       "                        <td id=\"T_470f5dac_b1c2_11ec_9e8b_d0abd5a0d321row8_col6\" class=\"data row8 col6\" >0.511395</td>\n",
       "                        <td id=\"T_470f5dac_b1c2_11ec_9e8b_d0abd5a0d321row8_col7\" class=\"data row8 col7\" >0.705625</td>\n",
       "                        <td id=\"T_470f5dac_b1c2_11ec_9e8b_d0abd5a0d321row8_col8\" class=\"data row8 col8\" >1.000000</td>\n",
       "            </tr>\n",
       "    </tbody></table>"
      ],
      "text/plain": [
       "<pandas.io.formats.style.Styler at 0x15cfeb63898>"
      ]
     },
     "execution_count": 22,
     "metadata": {},
     "output_type": "execute_result"
    }
   ],
   "source": [
    "import matplotlib.pyplot as plt\n",
    "\n",
    "corr = df.corr()\n",
    "corr.style.background_gradient(cmap='coolwarm')"
   ]
  },
  {
   "cell_type": "code",
   "execution_count": 23,
   "id": "c3cdaeab",
   "metadata": {},
   "outputs": [
    {
     "data": {
      "text/html": [
       "<style  type=\"text/css\" >\n",
       "#T_471462e4_b1c2_11ec_ad1b_d0abd5a0d321row0_col0,#T_471462e4_b1c2_11ec_ad1b_d0abd5a0d321row1_col1,#T_471462e4_b1c2_11ec_ad1b_d0abd5a0d321row2_col2,#T_471462e4_b1c2_11ec_ad1b_d0abd5a0d321row3_col3,#T_471462e4_b1c2_11ec_ad1b_d0abd5a0d321row4_col4{\n",
       "            background-color:  #b40426;\n",
       "            color:  #f1f1f1;\n",
       "        }#T_471462e4_b1c2_11ec_ad1b_d0abd5a0d321row0_col1,#T_471462e4_b1c2_11ec_ad1b_d0abd5a0d321row0_col2,#T_471462e4_b1c2_11ec_ad1b_d0abd5a0d321row0_col3,#T_471462e4_b1c2_11ec_ad1b_d0abd5a0d321row0_col4,#T_471462e4_b1c2_11ec_ad1b_d0abd5a0d321row1_col0{\n",
       "            background-color:  #3b4cc0;\n",
       "            color:  #f1f1f1;\n",
       "        }#T_471462e4_b1c2_11ec_ad1b_d0abd5a0d321row1_col2,#T_471462e4_b1c2_11ec_ad1b_d0abd5a0d321row4_col3{\n",
       "            background-color:  #f5c1a9;\n",
       "            color:  #000000;\n",
       "        }#T_471462e4_b1c2_11ec_ad1b_d0abd5a0d321row1_col3{\n",
       "            background-color:  #d6dce4;\n",
       "            color:  #000000;\n",
       "        }#T_471462e4_b1c2_11ec_ad1b_d0abd5a0d321row1_col4{\n",
       "            background-color:  #f3c8b2;\n",
       "            color:  #000000;\n",
       "        }#T_471462e4_b1c2_11ec_ad1b_d0abd5a0d321row2_col0{\n",
       "            background-color:  #6b8df0;\n",
       "            color:  #000000;\n",
       "        }#T_471462e4_b1c2_11ec_ad1b_d0abd5a0d321row2_col1{\n",
       "            background-color:  #f7b093;\n",
       "            color:  #000000;\n",
       "        }#T_471462e4_b1c2_11ec_ad1b_d0abd5a0d321row2_col3,#T_471462e4_b1c2_11ec_ad1b_d0abd5a0d321row3_col2{\n",
       "            background-color:  #f5c4ac;\n",
       "            color:  #000000;\n",
       "        }#T_471462e4_b1c2_11ec_ad1b_d0abd5a0d321row2_col4{\n",
       "            background-color:  #e7d7ce;\n",
       "            color:  #000000;\n",
       "        }#T_471462e4_b1c2_11ec_ad1b_d0abd5a0d321row3_col0{\n",
       "            background-color:  #688aef;\n",
       "            color:  #000000;\n",
       "        }#T_471462e4_b1c2_11ec_ad1b_d0abd5a0d321row3_col1,#T_471462e4_b1c2_11ec_ad1b_d0abd5a0d321row4_col2{\n",
       "            background-color:  #ead5c9;\n",
       "            color:  #000000;\n",
       "        }#T_471462e4_b1c2_11ec_ad1b_d0abd5a0d321row3_col4{\n",
       "            background-color:  #f4c5ad;\n",
       "            color:  #000000;\n",
       "        }#T_471462e4_b1c2_11ec_ad1b_d0abd5a0d321row4_col0{\n",
       "            background-color:  #7295f4;\n",
       "            color:  #000000;\n",
       "        }#T_471462e4_b1c2_11ec_ad1b_d0abd5a0d321row4_col1{\n",
       "            background-color:  #f7b497;\n",
       "            color:  #000000;\n",
       "        }</style><table id=\"T_471462e4_b1c2_11ec_ad1b_d0abd5a0d321\" ><thead>    <tr>        <th class=\"blank level0\" ></th>        <th class=\"col_heading level0 col0\" >sedentary</th>        <th class=\"col_heading level0 col1\" >LPA</th>        <th class=\"col_heading level0 col2\" >MPA</th>        <th class=\"col_heading level0 col3\" >VPA</th>        <th class=\"col_heading level0 col4\" >steps</th>    </tr></thead><tbody>\n",
       "                <tr>\n",
       "                        <th id=\"T_471462e4_b1c2_11ec_ad1b_d0abd5a0d321level0_row0\" class=\"row_heading level0 row0\" >sedentary</th>\n",
       "                        <td id=\"T_471462e4_b1c2_11ec_ad1b_d0abd5a0d321row0_col0\" class=\"data row0 col0\" >1.000000</td>\n",
       "                        <td id=\"T_471462e4_b1c2_11ec_ad1b_d0abd5a0d321row0_col1\" class=\"data row0 col1\" >-0.718884</td>\n",
       "                        <td id=\"T_471462e4_b1c2_11ec_ad1b_d0abd5a0d321row0_col2\" class=\"data row0 col2\" >-0.454722</td>\n",
       "                        <td id=\"T_471462e4_b1c2_11ec_ad1b_d0abd5a0d321row0_col3\" class=\"data row0 col3\" >-0.464515</td>\n",
       "                        <td id=\"T_471462e4_b1c2_11ec_ad1b_d0abd5a0d321row0_col4\" class=\"data row0 col4\" >-0.422799</td>\n",
       "            </tr>\n",
       "            <tr>\n",
       "                        <th id=\"T_471462e4_b1c2_11ec_ad1b_d0abd5a0d321level0_row1\" class=\"row_heading level0 row1\" >LPA</th>\n",
       "                        <td id=\"T_471462e4_b1c2_11ec_ad1b_d0abd5a0d321row1_col0\" class=\"data row1 col0\" >-0.718884</td>\n",
       "                        <td id=\"T_471462e4_b1c2_11ec_ad1b_d0abd5a0d321row1_col1\" class=\"data row1 col1\" >1.000000</td>\n",
       "                        <td id=\"T_471462e4_b1c2_11ec_ad1b_d0abd5a0d321row1_col2\" class=\"data row1 col2\" >0.469349</td>\n",
       "                        <td id=\"T_471462e4_b1c2_11ec_ad1b_d0abd5a0d321row1_col3\" class=\"data row1 col3\" >0.229239</td>\n",
       "                        <td id=\"T_471462e4_b1c2_11ec_ad1b_d0abd5a0d321row1_col4\" class=\"data row1 col4\" >0.446568</td>\n",
       "            </tr>\n",
       "            <tr>\n",
       "                        <th id=\"T_471462e4_b1c2_11ec_ad1b_d0abd5a0d321level0_row2\" class=\"row_heading level0 row2\" >MPA</th>\n",
       "                        <td id=\"T_471462e4_b1c2_11ec_ad1b_d0abd5a0d321row2_col0\" class=\"data row2 col0\" >-0.454722</td>\n",
       "                        <td id=\"T_471462e4_b1c2_11ec_ad1b_d0abd5a0d321row2_col1\" class=\"data row2 col1\" >0.469349</td>\n",
       "                        <td id=\"T_471462e4_b1c2_11ec_ad1b_d0abd5a0d321row2_col2\" class=\"data row2 col2\" >1.000000</td>\n",
       "                        <td id=\"T_471462e4_b1c2_11ec_ad1b_d0abd5a0d321row2_col3\" class=\"data row2 col3\" >0.455061</td>\n",
       "                        <td id=\"T_471462e4_b1c2_11ec_ad1b_d0abd5a0d321row2_col4\" class=\"data row2 col4\" >0.347788</td>\n",
       "            </tr>\n",
       "            <tr>\n",
       "                        <th id=\"T_471462e4_b1c2_11ec_ad1b_d0abd5a0d321level0_row3\" class=\"row_heading level0 row3\" >VPA</th>\n",
       "                        <td id=\"T_471462e4_b1c2_11ec_ad1b_d0abd5a0d321row3_col0\" class=\"data row3 col0\" >-0.464515</td>\n",
       "                        <td id=\"T_471462e4_b1c2_11ec_ad1b_d0abd5a0d321row3_col1\" class=\"data row3 col1\" >0.229239</td>\n",
       "                        <td id=\"T_471462e4_b1c2_11ec_ad1b_d0abd5a0d321row3_col2\" class=\"data row3 col2\" >0.455061</td>\n",
       "                        <td id=\"T_471462e4_b1c2_11ec_ad1b_d0abd5a0d321row3_col3\" class=\"data row3 col3\" >1.000000</td>\n",
       "                        <td id=\"T_471462e4_b1c2_11ec_ad1b_d0abd5a0d321row3_col4\" class=\"data row3 col4\" >0.462291</td>\n",
       "            </tr>\n",
       "            <tr>\n",
       "                        <th id=\"T_471462e4_b1c2_11ec_ad1b_d0abd5a0d321level0_row4\" class=\"row_heading level0 row4\" >steps</th>\n",
       "                        <td id=\"T_471462e4_b1c2_11ec_ad1b_d0abd5a0d321row4_col0\" class=\"data row4 col0\" >-0.422799</td>\n",
       "                        <td id=\"T_471462e4_b1c2_11ec_ad1b_d0abd5a0d321row4_col1\" class=\"data row4 col1\" >0.446568</td>\n",
       "                        <td id=\"T_471462e4_b1c2_11ec_ad1b_d0abd5a0d321row4_col2\" class=\"data row4 col2\" >0.347788</td>\n",
       "                        <td id=\"T_471462e4_b1c2_11ec_ad1b_d0abd5a0d321row4_col3\" class=\"data row4 col3\" >0.462291</td>\n",
       "                        <td id=\"T_471462e4_b1c2_11ec_ad1b_d0abd5a0d321row4_col4\" class=\"data row4 col4\" >1.000000</td>\n",
       "            </tr>\n",
       "    </tbody></table>"
      ],
      "text/plain": [
       "<pandas.io.formats.style.Styler at 0x15cffa9b198>"
      ]
     },
     "execution_count": 23,
     "metadata": {},
     "output_type": "execute_result"
    }
   ],
   "source": [
    "columns = ['sedentary', 'LPA', 'MPA', 'VPA', 'steps']\n",
    "df = df [columns]\n",
    "\n",
    "corr = df.corr()\n",
    "corr.style.background_gradient(cmap='coolwarm')"
   ]
  },
  {
   "cell_type": "code",
   "execution_count": 24,
   "id": "96f3a466",
   "metadata": {},
   "outputs": [
    {
     "data": {
      "text/plain": [
       "(2244, 5)"
      ]
     },
     "execution_count": 24,
     "metadata": {},
     "output_type": "execute_result"
    }
   ],
   "source": [
    "df.shape"
   ]
  },
  {
   "cell_type": "code",
   "execution_count": 29,
   "id": "3ce9d93f",
   "metadata": {},
   "outputs": [
    {
     "name": "stderr",
     "output_type": "stream",
     "text": [
      "c:\\users\\ayanc\\appdata\\local\\programs\\python\\python36\\lib\\site-packages\\ipykernel_launcher.py:15: SettingWithCopyWarning: \n",
      "A value is trying to be set on a copy of a slice from a DataFrame.\n",
      "Try using .loc[row_indexer,col_indexer] = value instead\n",
      "\n",
      "See the caveats in the documentation: https://pandas.pydata.org/pandas-docs/stable/user_guide/indexing.html#returning-a-view-versus-a-copy\n",
      "  from ipykernel import kernelapp as app\n"
     ]
    },
    {
     "data": {
      "text/html": [
       "<div>\n",
       "<style scoped>\n",
       "    .dataframe tbody tr th:only-of-type {\n",
       "        vertical-align: middle;\n",
       "    }\n",
       "\n",
       "    .dataframe tbody tr th {\n",
       "        vertical-align: top;\n",
       "    }\n",
       "\n",
       "    .dataframe thead th {\n",
       "        text-align: right;\n",
       "    }\n",
       "</style>\n",
       "<table border=\"1\" class=\"dataframe\">\n",
       "  <thead>\n",
       "    <tr style=\"text-align: right;\">\n",
       "      <th></th>\n",
       "      <th>sedentary</th>\n",
       "      <th>LPA</th>\n",
       "      <th>MPA</th>\n",
       "      <th>VPA</th>\n",
       "      <th>steps</th>\n",
       "      <th>active</th>\n",
       "    </tr>\n",
       "  </thead>\n",
       "  <tbody>\n",
       "    <tr>\n",
       "      <th>0</th>\n",
       "      <td>907</td>\n",
       "      <td>107</td>\n",
       "      <td>0</td>\n",
       "      <td>0</td>\n",
       "      <td>3062.0</td>\n",
       "      <td>0</td>\n",
       "    </tr>\n",
       "    <tr>\n",
       "      <th>1</th>\n",
       "      <td>874</td>\n",
       "      <td>94</td>\n",
       "      <td>0</td>\n",
       "      <td>0</td>\n",
       "      <td>1472.0</td>\n",
       "      <td>0</td>\n",
       "    </tr>\n",
       "    <tr>\n",
       "      <th>2</th>\n",
       "      <td>990</td>\n",
       "      <td>59</td>\n",
       "      <td>0</td>\n",
       "      <td>0</td>\n",
       "      <td>610.0</td>\n",
       "      <td>0</td>\n",
       "    </tr>\n",
       "    <tr>\n",
       "      <th>3</th>\n",
       "      <td>740</td>\n",
       "      <td>80</td>\n",
       "      <td>8</td>\n",
       "      <td>4</td>\n",
       "      <td>2177.0</td>\n",
       "      <td>0</td>\n",
       "    </tr>\n",
       "    <tr>\n",
       "      <th>4</th>\n",
       "      <td>816</td>\n",
       "      <td>67</td>\n",
       "      <td>0</td>\n",
       "      <td>0</td>\n",
       "      <td>1690.0</td>\n",
       "      <td>0</td>\n",
       "    </tr>\n",
       "    <tr>\n",
       "      <th>...</th>\n",
       "      <td>...</td>\n",
       "      <td>...</td>\n",
       "      <td>...</td>\n",
       "      <td>...</td>\n",
       "      <td>...</td>\n",
       "      <td>...</td>\n",
       "    </tr>\n",
       "    <tr>\n",
       "      <th>2239</th>\n",
       "      <td>680</td>\n",
       "      <td>171</td>\n",
       "      <td>12</td>\n",
       "      <td>91</td>\n",
       "      <td>15137.0</td>\n",
       "      <td>4</td>\n",
       "    </tr>\n",
       "    <tr>\n",
       "      <th>2240</th>\n",
       "      <td>609</td>\n",
       "      <td>237</td>\n",
       "      <td>42</td>\n",
       "      <td>109</td>\n",
       "      <td>0.0</td>\n",
       "      <td>0</td>\n",
       "    </tr>\n",
       "    <tr>\n",
       "      <th>2241</th>\n",
       "      <td>983</td>\n",
       "      <td>77</td>\n",
       "      <td>11</td>\n",
       "      <td>115</td>\n",
       "      <td>0.0</td>\n",
       "      <td>0</td>\n",
       "    </tr>\n",
       "    <tr>\n",
       "      <th>2242</th>\n",
       "      <td>784</td>\n",
       "      <td>96</td>\n",
       "      <td>20</td>\n",
       "      <td>152</td>\n",
       "      <td>0.0</td>\n",
       "      <td>0</td>\n",
       "    </tr>\n",
       "    <tr>\n",
       "      <th>2243</th>\n",
       "      <td>663</td>\n",
       "      <td>135</td>\n",
       "      <td>29</td>\n",
       "      <td>117</td>\n",
       "      <td>0.0</td>\n",
       "      <td>0</td>\n",
       "    </tr>\n",
       "  </tbody>\n",
       "</table>\n",
       "<p>2244 rows × 6 columns</p>\n",
       "</div>"
      ],
      "text/plain": [
       "      sedentary  LPA  MPA  VPA    steps  active\n",
       "0           907  107    0    0   3062.0       0\n",
       "1           874   94    0    0   1472.0       0\n",
       "2           990   59    0    0    610.0       0\n",
       "3           740   80    8    4   2177.0       0\n",
       "4           816   67    0    0   1690.0       0\n",
       "...         ...  ...  ...  ...      ...     ...\n",
       "2239        680  171   12   91  15137.0       4\n",
       "2240        609  237   42  109      0.0       0\n",
       "2241        983   77   11  115      0.0       0\n",
       "2242        784   96   20  152      0.0       0\n",
       "2243        663  135   29  117      0.0       0\n",
       "\n",
       "[2244 rows x 6 columns]"
      ]
     },
     "execution_count": 29,
     "metadata": {},
     "output_type": "execute_result"
    }
   ],
   "source": [
    "def calculate_lebel(df):\n",
    "    if ((df['steps'] < 5000) and ((df['VPA']*2 + df['MPA'])*7 < 90) and (df['LPA'] >=0)): #sedentary\n",
    "        return 0\n",
    "    elif ((df['steps'] >= 5000) and ((df['VPA']*2 + df['MPA'])*7 >= 90) and (df['VPA']*2 + df['MPA'])*7 < 210) or (df['steps'] >= 5000 and df['steps'] <= 7499): #LPA\n",
    "        return 1\n",
    "    elif ((df['steps'] >= 5000) and ((df['VPA']*2 + df['MPA'])*7 >= 210) and (df['VPA']*2 + df['MPA'])*7 < 300) or (df['steps'] >= 7500 and df['steps'] <= 9999): #MPA\n",
    "        return 2\n",
    "    elif ((df['steps'] >= 5000) and ((df['VPA']*2 + df['MPA'])*7 >= 300) and (df['VPA']*2 + df['MPA'])*7 < 360) or (df['steps'] >= 10000 and df['steps'] <= 12499): #MPA\n",
    "        return 3\n",
    "    elif ((df['steps'] >= 5000) and (df['VPA']*2 + df['MPA'])*7 >= 360) or (df['steps'] >= 12500): #VPA\n",
    "        return 4\n",
    "    elif (df['steps'] < 5000):\n",
    "        return 0\n",
    "\n",
    "df['active'] = df.apply(calculate_lebel, axis=1)\n",
    "df"
   ]
  },
  {
   "cell_type": "code",
   "execution_count": 30,
   "id": "5fa1f844",
   "metadata": {},
   "outputs": [
    {
     "data": {
      "text/plain": [
       "False"
      ]
     },
     "execution_count": 30,
     "metadata": {},
     "output_type": "execute_result"
    }
   ],
   "source": [
    "df['active'].isnull().values.any()"
   ]
  },
  {
   "cell_type": "code",
   "execution_count": 31,
   "id": "7a462a0a",
   "metadata": {},
   "outputs": [
    {
     "data": {
      "text/plain": [
       "(2244, 6)"
      ]
     },
     "execution_count": 31,
     "metadata": {},
     "output_type": "execute_result"
    }
   ],
   "source": [
    "df.shape"
   ]
  },
  {
   "cell_type": "code",
   "execution_count": 32,
   "id": "9a4c754e",
   "metadata": {},
   "outputs": [],
   "source": [
    "df.to_csv('pmdata_processed_15.csv')"
   ]
  },
  {
   "cell_type": "code",
   "execution_count": 33,
   "id": "1eccd27d",
   "metadata": {},
   "outputs": [],
   "source": [
    "array = df.values\n",
    "X = array[:,0:5]\n",
    "Y = array[:,5]"
   ]
  },
  {
   "cell_type": "code",
   "execution_count": 34,
   "id": "14b268f5",
   "metadata": {},
   "outputs": [
    {
     "name": "stdout",
     "output_type": "stream",
     "text": [
      "[  46983.43   35055.79    8826.42   28285.61 8557233.71]\n",
      "\n",
      "Featured data:\n",
      " [[ 907.  107.    0.    0. 3062.]\n",
      " [ 874.   94.    0.    0. 1472.]\n",
      " [ 990.   59.    0.    0.  610.]\n",
      " [ 740.   80.    8.    4. 2177.]\n",
      " [ 816.   67.    0.    0. 1690.]]\n"
     ]
    }
   ],
   "source": [
    "from numpy import set_printoptions\n",
    "from sklearn.feature_selection import SelectKBest\n",
    "from sklearn.feature_selection import chi2\n",
    "\n",
    "test = SelectKBest(score_func=chi2, k=5)\n",
    "fit = test.fit(X,Y)\n",
    "\n",
    "set_printoptions(precision=2)\n",
    "print(fit.scores_)\n",
    "featured_data = fit.transform(X)\n",
    "print (\"\\nFeatured data:\\n\", featured_data[0:5])"
   ]
  },
  {
   "cell_type": "code",
   "execution_count": 35,
   "id": "0569d7cc",
   "metadata": {},
   "outputs": [
    {
     "name": "stdout",
     "output_type": "stream",
     "text": [
      "Explained Variance: [9.98e-01 1.54e-03 1.20e-04 2.94e-05 6.94e-06]\n",
      "[[-1.77e-02  7.36e-03  1.16e-03  3.10e-03  1.00e+00]\n",
      " [ 9.62e-01 -2.66e-01 -3.02e-02 -4.86e-02  1.92e-02]\n",
      " [ 2.53e-01  9.47e-01  3.84e-02 -1.94e-01 -1.94e-03]\n",
      " [ 9.95e-02  1.59e-01  2.41e-01  9.52e-01 -2.64e-03]\n",
      " [-4.77e-03 -8.53e-02  9.69e-01 -2.31e-01  1.30e-04]]\n"
     ]
    }
   ],
   "source": [
    "from sklearn.decomposition import PCA\n",
    "\n",
    "pca = PCA(n_components=5)\n",
    "fit = pca.fit(X)\n",
    "print((\"Explained Variance: %s\") % fit.explained_variance_ratio_)\n",
    "print(fit.components_)"
   ]
  },
  {
   "cell_type": "code",
   "execution_count": 36,
   "id": "99290ac6",
   "metadata": {},
   "outputs": [
    {
     "name": "stdout",
     "output_type": "stream",
     "text": [
      "[0.08 0.09 0.07 0.12 0.64]\n"
     ]
    }
   ],
   "source": [
    "from sklearn.ensemble import ExtraTreesClassifier\n",
    "\n",
    "model = ExtraTreesClassifier()\n",
    "model.fit(X, Y)\n",
    "print(model.feature_importances_)"
   ]
  },
  {
   "cell_type": "code",
   "execution_count": null,
   "id": "80091aa2",
   "metadata": {},
   "outputs": [],
   "source": []
  }
 ],
 "metadata": {
  "kernelspec": {
   "display_name": "Python 3",
   "language": "python",
   "name": "python3"
  },
  "language_info": {
   "codemirror_mode": {
    "name": "ipython",
    "version": 3
   },
   "file_extension": ".py",
   "mimetype": "text/x-python",
   "name": "python",
   "nbconvert_exporter": "python",
   "pygments_lexer": "ipython3",
   "version": "3.6.6"
  }
 },
 "nbformat": 4,
 "nbformat_minor": 5
}
