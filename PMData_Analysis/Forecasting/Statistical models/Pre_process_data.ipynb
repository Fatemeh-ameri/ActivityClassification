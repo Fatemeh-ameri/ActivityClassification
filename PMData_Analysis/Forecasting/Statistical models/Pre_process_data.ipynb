{
 "cells": [
  {
   "cell_type": "code",
   "execution_count": 1,
   "id": "0119637e",
   "metadata": {},
   "outputs": [],
   "source": [
    "#https://pandas.pydata.org/docs/user_guide/visualization.html\n",
    "\n",
    "import pandas as pd\n",
    "import numpy as np "
   ]
  },
  {
   "cell_type": "code",
   "execution_count": 2,
   "id": "d0874e72",
   "metadata": {},
   "outputs": [
    {
     "name": "stdout",
     "output_type": "stream",
     "text": [
      "             dateTime  value\n",
      "0 2019-11-01 05:32:00     19\n",
      "1 2019-11-01 05:33:00      0\n",
      "2 2019-11-01 05:34:00      0\n",
      "3 2019-11-01 05:35:00      0\n",
      "4 2019-11-01 05:36:00      8\n"
     ]
    }
   ],
   "source": [
    "df1 = pd.read_json(r'C:\\Users\\AyanC\\OneDrive - Universitetet i Agder\\Kalman\\Input\\pmdata\\p12\\fitbit\\steps.json')\n",
    "\n",
    "print (df1.head())"
   ]
  },
  {
   "cell_type": "code",
   "execution_count": 3,
   "id": "77ed9f5d",
   "metadata": {},
   "outputs": [
    {
     "data": {
      "text/plain": [
       "Index(['value', 'steps'], dtype='object')"
      ]
     },
     "execution_count": 3,
     "metadata": {},
     "output_type": "execute_result"
    }
   ],
   "source": [
    "df1 = df1.groupby(df1['dateTime'].dt.date, as_index = False)['value'].sum()\n",
    "df1['steps'] = df1['value']\n",
    "df1.columns"
   ]
  },
  {
   "cell_type": "code",
   "execution_count": 4,
   "id": "ce6897ae",
   "metadata": {},
   "outputs": [
    {
     "data": {
      "text/html": [
       "<div>\n",
       "<style scoped>\n",
       "    .dataframe tbody tr th:only-of-type {\n",
       "        vertical-align: middle;\n",
       "    }\n",
       "\n",
       "    .dataframe tbody tr th {\n",
       "        vertical-align: top;\n",
       "    }\n",
       "\n",
       "    .dataframe thead th {\n",
       "        text-align: right;\n",
       "    }\n",
       "</style>\n",
       "<table border=\"1\" class=\"dataframe\">\n",
       "  <thead>\n",
       "    <tr style=\"text-align: right;\">\n",
       "      <th></th>\n",
       "      <th>value</th>\n",
       "      <th>steps</th>\n",
       "    </tr>\n",
       "  </thead>\n",
       "  <tbody>\n",
       "    <tr>\n",
       "      <th>0</th>\n",
       "      <td>9503</td>\n",
       "      <td>9503</td>\n",
       "    </tr>\n",
       "    <tr>\n",
       "      <th>1</th>\n",
       "      <td>9784</td>\n",
       "      <td>9784</td>\n",
       "    </tr>\n",
       "    <tr>\n",
       "      <th>2</th>\n",
       "      <td>11409</td>\n",
       "      <td>11409</td>\n",
       "    </tr>\n",
       "    <tr>\n",
       "      <th>3</th>\n",
       "      <td>7290</td>\n",
       "      <td>7290</td>\n",
       "    </tr>\n",
       "    <tr>\n",
       "      <th>4</th>\n",
       "      <td>7393</td>\n",
       "      <td>7393</td>\n",
       "    </tr>\n",
       "    <tr>\n",
       "      <th>...</th>\n",
       "      <td>...</td>\n",
       "      <td>...</td>\n",
       "    </tr>\n",
       "    <tr>\n",
       "      <th>123</th>\n",
       "      <td>3723</td>\n",
       "      <td>3723</td>\n",
       "    </tr>\n",
       "    <tr>\n",
       "      <th>124</th>\n",
       "      <td>6255</td>\n",
       "      <td>6255</td>\n",
       "    </tr>\n",
       "    <tr>\n",
       "      <th>125</th>\n",
       "      <td>0</td>\n",
       "      <td>0</td>\n",
       "    </tr>\n",
       "    <tr>\n",
       "      <th>126</th>\n",
       "      <td>0</td>\n",
       "      <td>0</td>\n",
       "    </tr>\n",
       "    <tr>\n",
       "      <th>127</th>\n",
       "      <td>0</td>\n",
       "      <td>0</td>\n",
       "    </tr>\n",
       "  </tbody>\n",
       "</table>\n",
       "<p>128 rows × 2 columns</p>\n",
       "</div>"
      ],
      "text/plain": [
       "     value  steps\n",
       "0     9503   9503\n",
       "1     9784   9784\n",
       "2    11409  11409\n",
       "3     7290   7290\n",
       "4     7393   7393\n",
       "..     ...    ...\n",
       "123   3723   3723\n",
       "124   6255   6255\n",
       "125      0      0\n",
       "126      0      0\n",
       "127      0      0\n",
       "\n",
       "[128 rows x 2 columns]"
      ]
     },
     "execution_count": 4,
     "metadata": {},
     "output_type": "execute_result"
    }
   ],
   "source": [
    "df1"
   ]
  },
  {
   "cell_type": "code",
   "execution_count": 5,
   "id": "61017607",
   "metadata": {},
   "outputs": [
    {
     "name": "stdout",
     "output_type": "stream",
     "text": [
      "    dateTime  value\n",
      "0 2019-11-01     15\n",
      "1 2019-11-02      0\n",
      "2 2019-11-03     33\n",
      "3 2019-11-04     37\n",
      "4 2019-11-05      0\n",
      "5 2019-11-06     17\n",
      "6 2019-11-07     21\n",
      "7 2019-11-08     21\n",
      "8 2019-11-09     45\n",
      "9 2019-11-10      0\n"
     ]
    },
    {
     "data": {
      "text/plain": [
       "0      15\n",
       "1       0\n",
       "2      33\n",
       "3      37\n",
       "4       0\n",
       "       ..\n",
       "147     0\n",
       "148     0\n",
       "149     0\n",
       "150     0\n",
       "151     0\n",
       "Name: value, Length: 152, dtype: int64"
      ]
     },
     "execution_count": 5,
     "metadata": {},
     "output_type": "execute_result"
    }
   ],
   "source": [
    "df2 = pd.read_json(r'C:\\Users\\AyanC\\OneDrive - Universitetet i Agder\\Kalman\\Input\\pmdata\\p12\\fitbit\\very_active_minutes.json')\n",
    "print (df2.head(10))\n",
    "df2['VPA'] = df2['value']\n",
    "df2['value']"
   ]
  },
  {
   "cell_type": "code",
   "execution_count": 6,
   "id": "25db27d7",
   "metadata": {},
   "outputs": [
    {
     "name": "stdout",
     "output_type": "stream",
     "text": [
      "    dateTime  value  MPA\n",
      "0 2019-11-01     14   14\n",
      "1 2019-11-02      0    0\n",
      "2 2019-11-03      5    5\n",
      "3 2019-11-04     34   34\n",
      "4 2019-11-05      0    0\n"
     ]
    }
   ],
   "source": [
    "df3 = pd.read_json(r'C:\\Users\\AyanC\\OneDrive - Universitetet i Agder\\Kalman\\Input\\pmdata\\p12\\fitbit\\moderately_active_minutes.json')\n",
    "df3['MPA'] = df3['value']\n",
    "print (df3.head())"
   ]
  },
  {
   "cell_type": "code",
   "execution_count": 7,
   "id": "740296b6",
   "metadata": {},
   "outputs": [
    {
     "ename": "ValueError",
     "evalue": "Expected object or value",
     "output_type": "error",
     "traceback": [
      "\u001b[1;31m---------------------------------------------------------------------------\u001b[0m",
      "\u001b[1;31mValueError\u001b[0m                                Traceback (most recent call last)",
      "\u001b[1;32m<ipython-input-7-6f7858b5751b>\u001b[0m in \u001b[0;36m<module>\u001b[1;34m\u001b[0m\n\u001b[1;32m----> 1\u001b[1;33m \u001b[0mdf4\u001b[0m \u001b[1;33m=\u001b[0m \u001b[0mpd\u001b[0m\u001b[1;33m.\u001b[0m\u001b[0mread_json\u001b[0m\u001b[1;33m(\u001b[0m\u001b[1;34mr'C:\\Users\\AyanC\\OneDrive - Universitetet i Agder\\Kalman\\Input\\pmdata\\p12\\fitbit\\lightly_active_minutes.json'\u001b[0m\u001b[1;33m)\u001b[0m\u001b[1;33m\u001b[0m\u001b[0m\n\u001b[0m\u001b[0;32m      2\u001b[0m \u001b[0mdf4\u001b[0m\u001b[1;33m[\u001b[0m\u001b[1;34m'LPA'\u001b[0m\u001b[1;33m]\u001b[0m \u001b[1;33m=\u001b[0m \u001b[0mdf4\u001b[0m\u001b[1;33m[\u001b[0m\u001b[1;34m'value'\u001b[0m\u001b[1;33m]\u001b[0m\u001b[1;33m\u001b[0m\u001b[0m\n\u001b[0;32m      3\u001b[0m \u001b[0mprint\u001b[0m \u001b[1;33m(\u001b[0m\u001b[0mdf4\u001b[0m\u001b[1;33m.\u001b[0m\u001b[0mhead\u001b[0m\u001b[1;33m(\u001b[0m\u001b[1;33m)\u001b[0m\u001b[1;33m)\u001b[0m\u001b[1;33m\u001b[0m\u001b[0m\n",
      "\u001b[1;32mc:\\users\\ayanc\\appdata\\local\\programs\\python\\python36\\lib\\site-packages\\pandas\\util\\_decorators.py\u001b[0m in \u001b[0;36mwrapper\u001b[1;34m(*args, **kwargs)\u001b[0m\n\u001b[0;32m    197\u001b[0m                 \u001b[1;32melse\u001b[0m\u001b[1;33m:\u001b[0m\u001b[1;33m\u001b[0m\u001b[0m\n\u001b[0;32m    198\u001b[0m                     \u001b[0mkwargs\u001b[0m\u001b[1;33m[\u001b[0m\u001b[0mnew_arg_name\u001b[0m\u001b[1;33m]\u001b[0m \u001b[1;33m=\u001b[0m \u001b[0mnew_arg_value\u001b[0m\u001b[1;33m\u001b[0m\u001b[0m\n\u001b[1;32m--> 199\u001b[1;33m             \u001b[1;32mreturn\u001b[0m \u001b[0mfunc\u001b[0m\u001b[1;33m(\u001b[0m\u001b[1;33m*\u001b[0m\u001b[0margs\u001b[0m\u001b[1;33m,\u001b[0m \u001b[1;33m**\u001b[0m\u001b[0mkwargs\u001b[0m\u001b[1;33m)\u001b[0m\u001b[1;33m\u001b[0m\u001b[0m\n\u001b[0m\u001b[0;32m    200\u001b[0m \u001b[1;33m\u001b[0m\u001b[0m\n\u001b[0;32m    201\u001b[0m         \u001b[1;32mreturn\u001b[0m \u001b[0mcast\u001b[0m\u001b[1;33m(\u001b[0m\u001b[0mF\u001b[0m\u001b[1;33m,\u001b[0m \u001b[0mwrapper\u001b[0m\u001b[1;33m)\u001b[0m\u001b[1;33m\u001b[0m\u001b[0m\n",
      "\u001b[1;32mc:\\users\\ayanc\\appdata\\local\\programs\\python\\python36\\lib\\site-packages\\pandas\\util\\_decorators.py\u001b[0m in \u001b[0;36mwrapper\u001b[1;34m(*args, **kwargs)\u001b[0m\n\u001b[0;32m    294\u001b[0m                 )\n\u001b[0;32m    295\u001b[0m                 \u001b[0mwarnings\u001b[0m\u001b[1;33m.\u001b[0m\u001b[0mwarn\u001b[0m\u001b[1;33m(\u001b[0m\u001b[0mmsg\u001b[0m\u001b[1;33m,\u001b[0m \u001b[0mFutureWarning\u001b[0m\u001b[1;33m,\u001b[0m \u001b[0mstacklevel\u001b[0m\u001b[1;33m=\u001b[0m\u001b[0mstacklevel\u001b[0m\u001b[1;33m)\u001b[0m\u001b[1;33m\u001b[0m\u001b[0m\n\u001b[1;32m--> 296\u001b[1;33m             \u001b[1;32mreturn\u001b[0m \u001b[0mfunc\u001b[0m\u001b[1;33m(\u001b[0m\u001b[1;33m*\u001b[0m\u001b[0margs\u001b[0m\u001b[1;33m,\u001b[0m \u001b[1;33m**\u001b[0m\u001b[0mkwargs\u001b[0m\u001b[1;33m)\u001b[0m\u001b[1;33m\u001b[0m\u001b[0m\n\u001b[0m\u001b[0;32m    297\u001b[0m \u001b[1;33m\u001b[0m\u001b[0m\n\u001b[0;32m    298\u001b[0m         \u001b[1;32mreturn\u001b[0m \u001b[0mwrapper\u001b[0m\u001b[1;33m\u001b[0m\u001b[0m\n",
      "\u001b[1;32mc:\\users\\ayanc\\appdata\\local\\programs\\python\\python36\\lib\\site-packages\\pandas\\io\\json\\_json.py\u001b[0m in \u001b[0;36mread_json\u001b[1;34m(path_or_buf, orient, typ, dtype, convert_axes, convert_dates, keep_default_dates, numpy, precise_float, date_unit, encoding, lines, chunksize, compression, nrows)\u001b[0m\n\u001b[0;32m    616\u001b[0m         \u001b[1;32mreturn\u001b[0m \u001b[0mjson_reader\u001b[0m\u001b[1;33m\u001b[0m\u001b[0m\n\u001b[0;32m    617\u001b[0m \u001b[1;33m\u001b[0m\u001b[0m\n\u001b[1;32m--> 618\u001b[1;33m     \u001b[0mresult\u001b[0m \u001b[1;33m=\u001b[0m \u001b[0mjson_reader\u001b[0m\u001b[1;33m.\u001b[0m\u001b[0mread\u001b[0m\u001b[1;33m(\u001b[0m\u001b[1;33m)\u001b[0m\u001b[1;33m\u001b[0m\u001b[0m\n\u001b[0m\u001b[0;32m    619\u001b[0m     \u001b[1;32mif\u001b[0m \u001b[0mshould_close\u001b[0m\u001b[1;33m:\u001b[0m\u001b[1;33m\u001b[0m\u001b[0m\n\u001b[0;32m    620\u001b[0m         \u001b[0mfilepath_or_buffer\u001b[0m\u001b[1;33m.\u001b[0m\u001b[0mclose\u001b[0m\u001b[1;33m(\u001b[0m\u001b[1;33m)\u001b[0m\u001b[1;33m\u001b[0m\u001b[0m\n",
      "\u001b[1;32mc:\\users\\ayanc\\appdata\\local\\programs\\python\\python36\\lib\\site-packages\\pandas\\io\\json\\_json.py\u001b[0m in \u001b[0;36mread\u001b[1;34m(self)\u001b[0m\n\u001b[0;32m    753\u001b[0m                 \u001b[0mobj\u001b[0m \u001b[1;33m=\u001b[0m \u001b[0mself\u001b[0m\u001b[1;33m.\u001b[0m\u001b[0m_get_object_parser\u001b[0m\u001b[1;33m(\u001b[0m\u001b[0mself\u001b[0m\u001b[1;33m.\u001b[0m\u001b[0m_combine_lines\u001b[0m\u001b[1;33m(\u001b[0m\u001b[0mdata\u001b[0m\u001b[1;33m)\u001b[0m\u001b[1;33m)\u001b[0m\u001b[1;33m\u001b[0m\u001b[0m\n\u001b[0;32m    754\u001b[0m         \u001b[1;32melse\u001b[0m\u001b[1;33m:\u001b[0m\u001b[1;33m\u001b[0m\u001b[0m\n\u001b[1;32m--> 755\u001b[1;33m             \u001b[0mobj\u001b[0m \u001b[1;33m=\u001b[0m \u001b[0mself\u001b[0m\u001b[1;33m.\u001b[0m\u001b[0m_get_object_parser\u001b[0m\u001b[1;33m(\u001b[0m\u001b[0mself\u001b[0m\u001b[1;33m.\u001b[0m\u001b[0mdata\u001b[0m\u001b[1;33m)\u001b[0m\u001b[1;33m\u001b[0m\u001b[0m\n\u001b[0m\u001b[0;32m    756\u001b[0m         \u001b[0mself\u001b[0m\u001b[1;33m.\u001b[0m\u001b[0mclose\u001b[0m\u001b[1;33m(\u001b[0m\u001b[1;33m)\u001b[0m\u001b[1;33m\u001b[0m\u001b[0m\n\u001b[0;32m    757\u001b[0m         \u001b[1;32mreturn\u001b[0m \u001b[0mobj\u001b[0m\u001b[1;33m\u001b[0m\u001b[0m\n",
      "\u001b[1;32mc:\\users\\ayanc\\appdata\\local\\programs\\python\\python36\\lib\\site-packages\\pandas\\io\\json\\_json.py\u001b[0m in \u001b[0;36m_get_object_parser\u001b[1;34m(self, json)\u001b[0m\n\u001b[0;32m    775\u001b[0m         \u001b[0mobj\u001b[0m \u001b[1;33m=\u001b[0m \u001b[1;32mNone\u001b[0m\u001b[1;33m\u001b[0m\u001b[0m\n\u001b[0;32m    776\u001b[0m         \u001b[1;32mif\u001b[0m \u001b[0mtyp\u001b[0m \u001b[1;33m==\u001b[0m \u001b[1;34m\"frame\"\u001b[0m\u001b[1;33m:\u001b[0m\u001b[1;33m\u001b[0m\u001b[0m\n\u001b[1;32m--> 777\u001b[1;33m             \u001b[0mobj\u001b[0m \u001b[1;33m=\u001b[0m \u001b[0mFrameParser\u001b[0m\u001b[1;33m(\u001b[0m\u001b[0mjson\u001b[0m\u001b[1;33m,\u001b[0m \u001b[1;33m**\u001b[0m\u001b[0mkwargs\u001b[0m\u001b[1;33m)\u001b[0m\u001b[1;33m.\u001b[0m\u001b[0mparse\u001b[0m\u001b[1;33m(\u001b[0m\u001b[1;33m)\u001b[0m\u001b[1;33m\u001b[0m\u001b[0m\n\u001b[0m\u001b[0;32m    778\u001b[0m \u001b[1;33m\u001b[0m\u001b[0m\n\u001b[0;32m    779\u001b[0m         \u001b[1;32mif\u001b[0m \u001b[0mtyp\u001b[0m \u001b[1;33m==\u001b[0m \u001b[1;34m\"series\"\u001b[0m \u001b[1;32mor\u001b[0m \u001b[0mobj\u001b[0m \u001b[1;32mis\u001b[0m \u001b[1;32mNone\u001b[0m\u001b[1;33m:\u001b[0m\u001b[1;33m\u001b[0m\u001b[0m\n",
      "\u001b[1;32mc:\\users\\ayanc\\appdata\\local\\programs\\python\\python36\\lib\\site-packages\\pandas\\io\\json\\_json.py\u001b[0m in \u001b[0;36mparse\u001b[1;34m(self)\u001b[0m\n\u001b[0;32m    884\u001b[0m \u001b[1;33m\u001b[0m\u001b[0m\n\u001b[0;32m    885\u001b[0m         \u001b[1;32melse\u001b[0m\u001b[1;33m:\u001b[0m\u001b[1;33m\u001b[0m\u001b[0m\n\u001b[1;32m--> 886\u001b[1;33m             \u001b[0mself\u001b[0m\u001b[1;33m.\u001b[0m\u001b[0m_parse_no_numpy\u001b[0m\u001b[1;33m(\u001b[0m\u001b[1;33m)\u001b[0m\u001b[1;33m\u001b[0m\u001b[0m\n\u001b[0m\u001b[0;32m    887\u001b[0m \u001b[1;33m\u001b[0m\u001b[0m\n\u001b[0;32m    888\u001b[0m         \u001b[1;32mif\u001b[0m \u001b[0mself\u001b[0m\u001b[1;33m.\u001b[0m\u001b[0mobj\u001b[0m \u001b[1;32mis\u001b[0m \u001b[1;32mNone\u001b[0m\u001b[1;33m:\u001b[0m\u001b[1;33m\u001b[0m\u001b[0m\n",
      "\u001b[1;32mc:\\users\\ayanc\\appdata\\local\\programs\\python\\python36\\lib\\site-packages\\pandas\\io\\json\\_json.py\u001b[0m in \u001b[0;36m_parse_no_numpy\u001b[1;34m(self)\u001b[0m\n\u001b[0;32m   1117\u001b[0m         \u001b[1;32mif\u001b[0m \u001b[0morient\u001b[0m \u001b[1;33m==\u001b[0m \u001b[1;34m\"columns\"\u001b[0m\u001b[1;33m:\u001b[0m\u001b[1;33m\u001b[0m\u001b[0m\n\u001b[0;32m   1118\u001b[0m             self.obj = DataFrame(\n\u001b[1;32m-> 1119\u001b[1;33m                 \u001b[0mloads\u001b[0m\u001b[1;33m(\u001b[0m\u001b[0mjson\u001b[0m\u001b[1;33m,\u001b[0m \u001b[0mprecise_float\u001b[0m\u001b[1;33m=\u001b[0m\u001b[0mself\u001b[0m\u001b[1;33m.\u001b[0m\u001b[0mprecise_float\u001b[0m\u001b[1;33m)\u001b[0m\u001b[1;33m,\u001b[0m \u001b[0mdtype\u001b[0m\u001b[1;33m=\u001b[0m\u001b[1;32mNone\u001b[0m\u001b[1;33m\u001b[0m\u001b[0m\n\u001b[0m\u001b[0;32m   1120\u001b[0m             )\n\u001b[0;32m   1121\u001b[0m         \u001b[1;32melif\u001b[0m \u001b[0morient\u001b[0m \u001b[1;33m==\u001b[0m \u001b[1;34m\"split\"\u001b[0m\u001b[1;33m:\u001b[0m\u001b[1;33m\u001b[0m\u001b[0m\n",
      "\u001b[1;31mValueError\u001b[0m: Expected object or value"
     ]
    }
   ],
   "source": [
    "df4 = pd.read_json(r'C:\\Users\\AyanC\\OneDrive - Universitetet i Agder\\Kalman\\Input\\pmdata\\p12\\fitbit\\lightly_active_minutes.json')\n",
    "df4['LPA'] = df4['value']\n",
    "print (df4.head())"
   ]
  },
  {
   "cell_type": "code",
   "execution_count": null,
   "id": "b5391297",
   "metadata": {},
   "outputs": [],
   "source": [
    "df5 = pd.read_json(r'C:\\Users\\AyanC\\OneDrive - Universitetet i Agder\\Kalman\\Input\\pmdata\\p12\\fitbit\\sedentary_minutes.json')\n",
    "df5['sedentary'] = df5['value']\n",
    "print (df5.head())"
   ]
  },
  {
   "cell_type": "code",
   "execution_count": null,
   "id": "85d62c92",
   "metadata": {},
   "outputs": [],
   "source": [
    "df6 = pd.read_json(r'C:\\Users\\AyanC\\OneDrive - Universitetet i Agder\\Kalman\\Input\\pmdata\\p12\\fitbit\\sleep.json')\n",
    "\n",
    "print (df6.head())"
   ]
  },
  {
   "cell_type": "code",
   "execution_count": null,
   "id": "68815e72",
   "metadata": {},
   "outputs": [],
   "source": [
    "df6_1 = pd.read_csv(r'C:\\Users\\AyanC\\OneDrive - Universitetet i Agder\\Kalman\\Input\\pmdata\\p12\\fitbit\\sleep_score.csv')\n",
    "print (df6_1.head())"
   ]
  },
  {
   "cell_type": "code",
   "execution_count": null,
   "id": "9a462819",
   "metadata": {},
   "outputs": [],
   "source": [
    "df6_1.columns"
   ]
  },
  {
   "cell_type": "code",
   "execution_count": null,
   "id": "4b013b8d",
   "metadata": {},
   "outputs": [],
   "source": [
    "columns = ['duration_score', 'deep_sleep_in_minutes', 'resting_heart_rate', 'restlessness']\n",
    "df6_1 = df6_1[columns]\n",
    "df6_1.columns\n",
    "df6_1"
   ]
  },
  {
   "cell_type": "code",
   "execution_count": null,
   "id": "c0abfb80",
   "metadata": {},
   "outputs": [],
   "source": [
    "df7 = pd.read_json(r'C:\\Users\\AyanC\\OneDrive - Universitetet i Agder\\Kalman\\Input\\pmdata\\p12\\fitbit\\heart_rate.json')\n",
    "df7['HR'] = df7['value']\n",
    "print (df7.head())"
   ]
  },
  {
   "cell_type": "code",
   "execution_count": null,
   "id": "b851b666",
   "metadata": {},
   "outputs": [],
   "source": [
    "df8 = pd.read_json(r'C:\\Users\\AyanC\\OneDrive - Universitetet i Agder\\Kalman\\Input\\pmdata\\p12\\fitbit\\exercise.json')\n",
    "\n",
    "print (df8.head())"
   ]
  },
  {
   "cell_type": "code",
   "execution_count": null,
   "id": "88317518",
   "metadata": {},
   "outputs": [],
   "source": [
    "df9 = pd.read_json(r'C:\\Users\\AyanC\\OneDrive - Universitetet i Agder\\Kalman\\Input\\pmdata\\p12\\fitbit\\distance.json')\n",
    "\n",
    "print (df9.head())"
   ]
  },
  {
   "cell_type": "code",
   "execution_count": null,
   "id": "3fd7555d",
   "metadata": {},
   "outputs": [],
   "source": [
    "df10 = pd.read_json(r'C:\\Users\\AyanC\\OneDrive - Universitetet i Agder\\Kalman\\Input\\pmdata\\p12\\fitbit\\calories.json')\n",
    "\n",
    "print (df10.head())"
   ]
  },
  {
   "cell_type": "code",
   "execution_count": null,
   "id": "67b55730",
   "metadata": {},
   "outputs": [],
   "source": [
    "df = [df2['dateTime'].fillna(0), df1['steps'].fillna(0), df2['VPA'].fillna(0), df3['MPA'], df4['LPA'], df5['sedentary'], df6_1]\n",
    "df = pd.concat(df, ignore_index= False, axis= 1)\n",
    "df = df.fillna(0)\n",
    "df.reset_index(drop=True, inplace=True)\n",
    "df"
   ]
  },
  {
   "cell_type": "code",
   "execution_count": null,
   "id": "c4619968",
   "metadata": {},
   "outputs": [],
   "source": [
    "df.to_csv('p12_merged.csv')"
   ]
  },
  {
   "cell_type": "code",
   "execution_count": null,
   "id": "f7f5776a",
   "metadata": {},
   "outputs": [],
   "source": [
    "df = pd.read_csv(r'p12_merged.csv', index_col=0)\n",
    "df.shape"
   ]
  },
  {
   "cell_type": "code",
   "execution_count": null,
   "id": "91f1dc1b",
   "metadata": {},
   "outputs": [],
   "source": [
    "dc = df[['dateTime', 'steps']].to_dict('split')\n",
    "dc['data']"
   ]
  },
  {
   "cell_type": "code",
   "execution_count": null,
   "id": "c58c7f8a",
   "metadata": {},
   "outputs": [],
   "source": [
    "dc_ = {}\n",
    "for i in dc['data']:\n",
    "    v = {i[0]: i[1]}\n",
    "    dc_.update(v)\n",
    "\n",
    "dc_"
   ]
  },
  {
   "cell_type": "code",
   "execution_count": null,
   "id": "cbc50ec6",
   "metadata": {},
   "outputs": [],
   "source": [
    "from datetime import datetime\n",
    "\n",
    "date_ = datetime.today().strftime('%Y-%m-%d')\n",
    "\n",
    "print(date_)\n",
    "\n",
    "idx = pd.date_range('2019-11-01', '2020-03-31')\n",
    "\n",
    "s = pd.Series(dc_)\n",
    "\n",
    "s.index = pd.DatetimeIndex(s.index)\n",
    "\n",
    "s = s.reindex(idx, fill_value=np.nan)\n",
    "\n",
    "print(s.isnull().sum())"
   ]
  },
  {
   "cell_type": "code",
   "execution_count": null,
   "id": "702467d7",
   "metadata": {},
   "outputs": [],
   "source": [
    "df.style"
   ]
  },
  {
   "cell_type": "code",
   "execution_count": null,
   "id": "ecb729de",
   "metadata": {},
   "outputs": [],
   "source": [
    "df['sleep_duration'] = 1440 - (df['VPA'] + df['MPA'] + df['LPA'] + df['sedentary'])\n",
    "df"
   ]
  },
  {
   "cell_type": "code",
   "execution_count": null,
   "id": "cad7f23a",
   "metadata": {},
   "outputs": [],
   "source": [
    "corrM = df.corr()\n",
    "corrM"
   ]
  },
  {
   "cell_type": "code",
   "execution_count": null,
   "id": "cc56821c",
   "metadata": {},
   "outputs": [],
   "source": [
    "def calculate_risk_multi(df):\n",
    "    if (df['steps'] < 5000) and ((df['VPA']*2 + df['MPA'])*7 < 90) and (df['LPA'] >=0): #sedentary\n",
    "        if(df['sleep_duration']<420): \n",
    "            return 0  #inadequate sleep\n",
    "        else:\n",
    "            return 1  #sufficient sleep\n",
    "    else: #active\n",
    "        if(df['sleep_duration']<420):\n",
    "            return 2  #inadequate sleep\n",
    "        else:\n",
    "            return 3  #sufficient sleep\n",
    "\n",
    "df['active'] = df.apply(calculate_risk_multi, axis=1)\n",
    "df.to_csv('p12_merged_multi.csv')\n",
    "df"
   ]
  },
  {
   "cell_type": "code",
   "execution_count": null,
   "id": "978519ab",
   "metadata": {},
   "outputs": [],
   "source": [
    "(df[df['active']==0]).shape #sedentary #inadequate sleep"
   ]
  },
  {
   "cell_type": "code",
   "execution_count": null,
   "id": "936b6b3e",
   "metadata": {},
   "outputs": [],
   "source": [
    "(df[df['active']==1]).shape #sedentary #sufficient sleep"
   ]
  },
  {
   "cell_type": "code",
   "execution_count": null,
   "id": "c0b56d35",
   "metadata": {},
   "outputs": [],
   "source": [
    "(df[df['active']==2]).shape #active #inadequate sleep"
   ]
  },
  {
   "cell_type": "code",
   "execution_count": null,
   "id": "b430ba6f",
   "metadata": {},
   "outputs": [],
   "source": [
    "(df[df['active']==3]).shape #active #sufficient sleep"
   ]
  },
  {
   "cell_type": "code",
   "execution_count": null,
   "id": "1fa939a0",
   "metadata": {},
   "outputs": [],
   "source": [
    "len(df[df['active']==3])"
   ]
  },
  {
   "cell_type": "code",
   "execution_count": null,
   "id": "5cdb76b1",
   "metadata": {},
   "outputs": [],
   "source": [
    "df.shape"
   ]
  },
  {
   "cell_type": "code",
   "execution_count": null,
   "id": "06bdd3ee",
   "metadata": {},
   "outputs": [],
   "source": [
    "df.plot()"
   ]
  },
  {
   "cell_type": "code",
   "execution_count": null,
   "id": "bdb44763",
   "metadata": {},
   "outputs": [],
   "source": [
    "df.plot.area()"
   ]
  },
  {
   "cell_type": "code",
   "execution_count": null,
   "id": "167763bd",
   "metadata": {},
   "outputs": [],
   "source": [
    "df.plot.area(stacked=False)"
   ]
  },
  {
   "cell_type": "code",
   "execution_count": null,
   "id": "f8dbf309",
   "metadata": {},
   "outputs": [],
   "source": [
    "from pandas.plotting import scatter_matrix\n",
    "\n",
    "scatter_matrix(df, alpha=0.2, figsize=(16, 16), diagonal=\"kde\")"
   ]
  },
  {
   "cell_type": "code",
   "execution_count": null,
   "id": "42850e8d",
   "metadata": {},
   "outputs": [],
   "source": [
    "df.plot(subplots=True, figsize=(15, 18))"
   ]
  },
  {
   "cell_type": "code",
   "execution_count": null,
   "id": "f4018373",
   "metadata": {},
   "outputs": [],
   "source": [
    "df.plot(subplots=True, layout=(4, 3), figsize=(15, 18), sharex=False)"
   ]
  },
  {
   "cell_type": "code",
   "execution_count": null,
   "id": "ad882e86",
   "metadata": {},
   "outputs": [],
   "source": [
    "from matplotlib import pyplot\n",
    "\n",
    "fig, ax = pyplot.subplots(1, 1, figsize=(30, 24))\n",
    "ax.xaxis.tick_top()  # Display x-axis ticks on top.\n",
    "df.plot(table=False, ax=ax)"
   ]
  },
  {
   "cell_type": "code",
   "execution_count": null,
   "id": "b32a3a47",
   "metadata": {},
   "outputs": [],
   "source": [
    "df.plot.bar(colormap=\"Greens\")"
   ]
  },
  {
   "cell_type": "code",
   "execution_count": null,
   "id": "a5c815d2",
   "metadata": {},
   "outputs": [],
   "source": [
    "df.plot.bar()"
   ]
  },
  {
   "cell_type": "code",
   "execution_count": null,
   "id": "41600e68",
   "metadata": {},
   "outputs": [],
   "source": [
    "df.plot.bar(stacked=True);"
   ]
  },
  {
   "cell_type": "code",
   "execution_count": null,
   "id": "ef27430f",
   "metadata": {},
   "outputs": [],
   "source": [
    "df.plot.barh(stacked=True);"
   ]
  },
  {
   "cell_type": "code",
   "execution_count": null,
   "id": "14cbe356",
   "metadata": {},
   "outputs": [],
   "source": [
    "print(df.values)"
   ]
  },
  {
   "cell_type": "code",
   "execution_count": null,
   "id": "048090c4",
   "metadata": {},
   "outputs": [],
   "source": [
    "df.plot.box();"
   ]
  },
  {
   "cell_type": "code",
   "execution_count": null,
   "id": "06052585",
   "metadata": {},
   "outputs": [],
   "source": [
    "df.columns"
   ]
  },
  {
   "cell_type": "code",
   "execution_count": null,
   "id": "753188b0",
   "metadata": {},
   "outputs": [],
   "source": [
    "columns = ['steps', 'VPA', 'MPA', 'LPA', 'sedentary', 'duration_score',\n",
    "       'deep_sleep_in_minutes', 'resting_heart_rate', 'restlessness',\n",
    "       'sleep_duration', 'active']\n",
    "\n",
    "df = df[columns]\n",
    "\n",
    "df"
   ]
  },
  {
   "cell_type": "code",
   "execution_count": null,
   "id": "ec5cfcda",
   "metadata": {},
   "outputs": [],
   "source": [
    "import matplotlib.pyplot as plt\n",
    "\n",
    "corr = df.corr()\n",
    "corr.style.background_gradient(cmap='coolwarm')"
   ]
  },
  {
   "cell_type": "code",
   "execution_count": null,
   "id": "31781cce",
   "metadata": {},
   "outputs": [],
   "source": [
    "X, y = df.iloc[:, :-1], df.iloc[:, -1]\n",
    "X.shape, y.shape"
   ]
  },
  {
   "cell_type": "code",
   "execution_count": null,
   "id": "b87147d4",
   "metadata": {},
   "outputs": [],
   "source": [
    "from sklearn.model_selection import train_test_split\n",
    "import numpy as np\n",
    "\n",
    "X_train, X_test, y_train, y_test = train_test_split(X, y, test_size=0.1, random_state=1)\n",
    "print(X_train.shape, X_test.shape, y_train.shape, y_test.shape)"
   ]
  },
  {
   "cell_type": "code",
   "execution_count": null,
   "id": "30314002",
   "metadata": {},
   "outputs": [],
   "source": [
    "X_train = X_train.values.reshape(X_train.shape[0],1,X_train.shape[1])\n",
    "X_test = X_test.values.reshape(X_test.shape[0],1,X_test.shape[1])"
   ]
  },
  {
   "cell_type": "code",
   "execution_count": null,
   "id": "9c5f1c06",
   "metadata": {},
   "outputs": [],
   "source": [
    "X_train.astype('float64')\n",
    "X_test.astype('float64')\n",
    "y_train.astype('float64')\n",
    "y_test.astype('float64')"
   ]
  },
  {
   "cell_type": "code",
   "execution_count": null,
   "id": "4eb5f62d",
   "metadata": {},
   "outputs": [],
   "source": [
    "X_train.shape, X_test.shape"
   ]
  },
  {
   "cell_type": "code",
   "execution_count": null,
   "id": "f69e50e0",
   "metadata": {},
   "outputs": [],
   "source": [
    "x_train"
   ]
  },
  {
   "cell_type": "code",
   "execution_count": null,
   "id": "56967c61",
   "metadata": {},
   "outputs": [],
   "source": [
    "for window in df.rolling(window=3):\n",
    "    print(window)"
   ]
  },
  {
   "cell_type": "code",
   "execution_count": null,
   "id": "18e88c3c",
   "metadata": {},
   "outputs": [],
   "source": [
    "from tsai.all import *\n",
    "\n",
    "cls = RocketClassifier()\n",
    "cls.fit(X_train, y_train)\n",
    "\n",
    "print(cls.score(X_test, y_test))"
   ]
  },
  {
   "cell_type": "code",
   "execution_count": null,
   "id": "bf3edcc5",
   "metadata": {},
   "outputs": [],
   "source": [
    "print(cls.predict(X_test))"
   ]
  },
  {
   "cell_type": "code",
   "execution_count": null,
   "id": "923db3d3",
   "metadata": {},
   "outputs": [],
   "source": [
    "cls"
   ]
  },
  {
   "cell_type": "code",
   "execution_count": null,
   "id": "1bf60769",
   "metadata": {},
   "outputs": [],
   "source": [
    "cls = MiniRocketClassifier()\n",
    "cls.fit(X_train, y_train)\n",
    "\n",
    "print(cls.score(X_test, y_test))"
   ]
  },
  {
   "cell_type": "code",
   "execution_count": null,
   "id": "756cf4c3",
   "metadata": {},
   "outputs": [],
   "source": [
    "cls"
   ]
  },
  {
   "cell_type": "code",
   "execution_count": null,
   "id": "749d256b",
   "metadata": {},
   "outputs": [],
   "source": [
    "print(cls.predict(X_test))"
   ]
  },
  {
   "cell_type": "code",
   "execution_count": null,
   "id": "fdbb4789",
   "metadata": {},
   "outputs": [],
   "source": [
    "from sklearn.model_selection import cross_val_score\n",
    "\n",
    "scores = cross_val_score(cls, X_train, y_train, cv=10, scoring='accuracy')\n",
    "\n",
    "print (scores)\n",
    "\n",
    "avg_score = np.mean(scores)\n",
    "print(avg_score)"
   ]
  },
  {
   "cell_type": "code",
   "execution_count": null,
   "id": "6460dce8",
   "metadata": {},
   "outputs": [],
   "source": [
    "#https://remykarem.github.io/blog/evaluation-metrics.html\n",
    "\n",
    "import numpy as np\n",
    "\n",
    "y_test = y_test.reshape(y_test.shape[0],1)\n",
    "\n",
    "y_pred = cls.predict(X_test)\n",
    "\n",
    "y_pred = y_pred.reshape(y_pred.shape[0],1)\n",
    "\n",
    "print(sklearn.metrics.roc_auc_score(y_test,y_pred))\n",
    "print(sklearn.metrics.confusion_matrix(y_test,y_pred))\n",
    "print(sklearn.metrics.classification_report(y_test,y_pred))"
   ]
  },
  {
   "cell_type": "code",
   "execution_count": null,
   "id": "ae4537b8",
   "metadata": {},
   "outputs": [],
   "source": [
    "y_pred.shape"
   ]
  },
  {
   "cell_type": "code",
   "execution_count": null,
   "id": "f98846f7",
   "metadata": {},
   "outputs": [],
   "source": [
    "y_test.shape"
   ]
  },
  {
   "cell_type": "code",
   "execution_count": null,
   "id": "c662df44",
   "metadata": {},
   "outputs": [],
   "source": [
    "df.to_csv('test.csv')"
   ]
  },
  {
   "cell_type": "code",
   "execution_count": null,
   "id": "335f3d97",
   "metadata": {},
   "outputs": [],
   "source": [
    "def prepare_data_with_sliding_window_for_multivariate(window_len, df, params_list, target):\n",
    "\tprint()\n",
    "\tprint(\"'PRINT input shape:', patient_patient1.shape\")\n",
    "\tprint('input shape:', df.shape)\n",
    "\tprint('window length', window_len)\n",
    "\tdisplay(df)\n",
    "\tprint()\n",
    "\tX, y = SlidingWindow(window_len, get_x=params_list, get_y=target)(df)\n",
    "\n",
    "\t#items = itemify(X, y)\n",
    "\t#print(items[100:112])\n",
    "\t\n",
    "\tprint(X[100:106])\n",
    "\tprint(y[100:106])\n",
    "\tprint(X.shape)\n",
    "\tprint(y.shape)\n",
    "\treturn X, y"
   ]
  },
  {
   "cell_type": "code",
   "execution_count": null,
   "id": "3ed76a0b",
   "metadata": {},
   "outputs": [],
   "source": [
    "def prepare_data_with_sliding_window_for_univariate_without_target(window_len, df):\n",
    "\tprint()\n",
    "\tprint(\"'PRINT input shape:', patient_patient1.shape\")\n",
    "\tprint('input shape:', df.shape)\n",
    "\tdisplay(df)\n",
    "\tprint()\n",
    "\tX, y = SlidingWindow(window_len)(df)\n",
    "\n",
    "\t#items = itemify(X, y)\n",
    "\t#print(items[100:112])\n",
    "\t\n",
    "\tprint(X[100:106])\n",
    "\tprint(y[100:106])\n",
    "\tprint(X.shape)\n",
    "\tprint(y.shape)\n",
    "\treturn X, y"
   ]
  },
  {
   "cell_type": "code",
   "execution_count": null,
   "id": "89e9ac8f",
   "metadata": {},
   "outputs": [],
   "source": [
    "def split_data(y, multi=None):\n",
    "\tprint('IN SPLIT DATA')\n",
    "\tif multi:\n",
    "\t\tprint('Multi')\n",
    "\t\tsplits = get_splits(y, valid_size=.2, stratify=True, random_state=23, shuffle=False)\n",
    "\telse: \n",
    "\t\tprint('Uni')\n",
    "\t\tsplits = get_splits(y, shuffle=False)\n",
    "\treturn splits"
   ]
  },
  {
   "cell_type": "code",
   "execution_count": null,
   "id": "40da6ab8",
   "metadata": {},
   "outputs": [],
   "source": [
    "window_len = 5\n",
    "\n",
    "X, y = prepare_data_with_sliding_window_for_univariate_without_target(window_len, df['active'])\n",
    "splits = split_data(y)"
   ]
  },
  {
   "cell_type": "code",
   "execution_count": null,
   "id": "995033ef",
   "metadata": {},
   "outputs": [],
   "source": [
    "tfms  = [None, [TSRegression()]]\n",
    "# Standardizes batch of type TSTensor\n",
    "batch_tfms = TSStandardize()\n",
    "\n",
    "dls = get_ts_dls(X.astype('float64'), y.astype('float64'), splits=splits, tfms=tfms, batch_tfms=batch_tfms, bs=64)\n",
    "dls"
   ]
  },
  {
   "cell_type": "code",
   "execution_count": null,
   "id": "231df7ce",
   "metadata": {},
   "outputs": [],
   "source": [
    "dls.one_batch()"
   ]
  },
  {
   "cell_type": "code",
   "execution_count": null,
   "id": "c9f629bf",
   "metadata": {},
   "outputs": [],
   "source": [
    "\"\"\"\n",
    "Choose 'InceptionTime' model as the first model for learning.\n",
    "\"\"\"\n",
    "\n",
    "learn_inception_time_model = ts_learner(dls, InceptionTime, metrics=[mae, rmse, mse], cbs=ShowGraph())\n",
    "\n",
    "\"\"\"\n",
    "Model itself finds the best 'learning rate'\n",
    "\"\"\"\n",
    "\n",
    "learn_inception_time_model.lr_find()"
   ]
  },
  {
   "cell_type": "code",
   "execution_count": null,
   "id": "03108943",
   "metadata": {},
   "outputs": [],
   "source": [
    "learn_inception_time_model.fit_one_cycle(50, 1e-2)"
   ]
  },
  {
   "cell_type": "code",
   "execution_count": null,
   "id": "0a9c8482",
   "metadata": {},
   "outputs": [],
   "source": [
    "learn_inception_time_model.loss_func"
   ]
  },
  {
   "cell_type": "code",
   "execution_count": null,
   "id": "01253a29",
   "metadata": {},
   "outputs": [],
   "source": [
    "\"\"\"\n",
    "Choose 'LSTM' model as the second model for learning.\n",
    "\"\"\"\n",
    "\n",
    "learn_LSTM = ts_learner(dls, LSTM, metrics=[mae, rmse], cbs=ShowGraph())\n",
    "learn_LSTM.lr_find()"
   ]
  },
  {
   "cell_type": "code",
   "execution_count": null,
   "id": "fd004645",
   "metadata": {},
   "outputs": [],
   "source": [
    "learn_LSTM.fit_one_cycle(50, 9e-2)"
   ]
  },
  {
   "cell_type": "code",
   "execution_count": null,
   "id": "14624816",
   "metadata": {},
   "outputs": [],
   "source": [
    "\n",
    "\"\"\"\n",
    "Choose 'GRU' model as the second model for learning.\n",
    "\"\"\"\n",
    "\n",
    "learn_GRU = ts_learner(dls, GRU, metrics=[mae, rmse], cbs=ShowGraph())\n",
    "learn_GRU.lr_find()"
   ]
  },
  {
   "cell_type": "code",
   "execution_count": null,
   "id": "455d7420",
   "metadata": {},
   "outputs": [],
   "source": [
    "learn_GRU = ts_learner(dls, GRU, metrics=[mae, rmse], cbs=ShowGraph())\n",
    "learn_GRU.fit_one_cycle(50, 5e-2)"
   ]
  },
  {
   "cell_type": "code",
   "execution_count": null,
   "id": "2ec06665",
   "metadata": {},
   "outputs": [],
   "source": [
    "probas, _, preds = learn_inception_time_model.get_X_preds(X[splits[1]])\n",
    "print(probas)\n",
    "print(preds)\n",
    "skm.mean_squared_error(y[splits[1]], preds, squared=False)"
   ]
  },
  {
   "cell_type": "code",
   "execution_count": null,
   "id": "97b42476",
   "metadata": {},
   "outputs": [],
   "source": [
    "probas, _, preds = learn_LSTM.get_X_preds(X[splits[1]])\n",
    "print(probas)\n",
    "print(preds)\n",
    "skm.mean_squared_error(y[splits[1]], preds, squared=False)"
   ]
  },
  {
   "cell_type": "code",
   "execution_count": null,
   "id": "4ae228c6",
   "metadata": {},
   "outputs": [],
   "source": [
    "probas, _, preds = learn_GRU.get_X_preds(X[splits[1]])\n",
    "skm.mean_squared_error(y[splits[1]], preds, squared=False)"
   ]
  },
  {
   "cell_type": "code",
   "execution_count": null,
   "id": "4c1f4cb8",
   "metadata": {},
   "outputs": [],
   "source": []
  }
 ],
 "metadata": {
  "kernelspec": {
   "display_name": "Python 3",
   "language": "python",
   "name": "python3"
  },
  "language_info": {
   "codemirror_mode": {
    "name": "ipython",
    "version": 3
   },
   "file_extension": ".py",
   "mimetype": "text/x-python",
   "name": "python",
   "nbconvert_exporter": "python",
   "pygments_lexer": "ipython3",
   "version": "3.6.6"
  }
 },
 "nbformat": 4,
 "nbformat_minor": 5
}
