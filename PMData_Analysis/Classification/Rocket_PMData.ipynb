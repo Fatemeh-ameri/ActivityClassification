{
 "cells": [
  {
   "cell_type": "code",
   "execution_count": 1,
   "id": "c465bd86",
   "metadata": {},
   "outputs": [],
   "source": [
    "#!/usr/bin/python"
   ]
  },
  {
   "cell_type": "code",
   "execution_count": 2,
   "id": "7bff90c7",
   "metadata": {},
   "outputs": [],
   "source": [
    "from tsai.all import *\n",
    "from tsai.data.all import *\n",
    "from tsai.models.utils import *\n",
    "\n",
    "\n",
    "from sklearn.metrics import precision_score\n",
    "from sklearn.metrics import confusion_matrix\n",
    "from sklearn.metrics import recall_score\n",
    "from sklearn.metrics import f1_score\n",
    "from sklearn.model_selection import cross_val_score\n",
    "from sklearn.metrics import accuracy_score\n",
    "\n",
    "import time\n",
    "import pandas as pd\n",
    "import numpy as np "
   ]
  },
  {
   "cell_type": "code",
   "execution_count": 3,
   "id": "b0e844ce",
   "metadata": {},
   "outputs": [
    {
     "data": {
      "text/plain": [
       "'\\nimport time\\nstart = time.time()\\n\\ndsid = \\'NATOPS\\'\\nfname = \\'RocketClassifier\\'\\nX_train, y_train, X_test, y_test = get_UCR_data(dsid, Xdtype=\\'float64\\')\\ncls = RocketClassifier()\\ncls.fit(X_train, y_train)\\nprint(cls.score(X_test, y_test))\\ny_true = cls.predict(X_test)\\nprint(precision_score(y_true, y_test, average=\\'micro\\'))\\nprint(confusion_matrix(y_true, y_test))\\nprint(recall_score(y_true, y_test, average=\\'micro\\'))\\n#print(f1_score(y_true, y_test, average=\\'micro\\'))\\n\\nend = time.time()\\nprint(end - start, \"seconds\")\\n'"
      ]
     },
     "execution_count": 3,
     "metadata": {},
     "output_type": "execute_result"
    }
   ],
   "source": [
    "# Multivariate classification with sklearn-type API\n",
    "#https://timeseriesai.github.io/tsai/models.ROCKET.html\n",
    "'''\n",
    "import time\n",
    "start = time.time()\n",
    "\n",
    "dsid = 'NATOPS'\n",
    "fname = 'RocketClassifier'\n",
    "X_train, y_train, X_test, y_test = get_UCR_data(dsid, Xdtype='float64')\n",
    "cls = RocketClassifier()\n",
    "cls.fit(X_train, y_train)\n",
    "print(cls.score(X_test, y_test))\n",
    "y_true = cls.predict(X_test)\n",
    "print(precision_score(y_true, y_test, average='micro'))\n",
    "print(confusion_matrix(y_true, y_test))\n",
    "print(recall_score(y_true, y_test, average='micro'))\n",
    "#print(f1_score(y_true, y_test, average='micro'))\n",
    "\n",
    "end = time.time()\n",
    "print(end - start, \"seconds\")\n",
    "'''"
   ]
  },
  {
   "cell_type": "code",
   "execution_count": 4,
   "id": "30dda170",
   "metadata": {},
   "outputs": [
    {
     "data": {
      "text/plain": [
       "'\\nimport time\\nstart = time.time()\\n\\ndsid = \\'NATOPS\\'\\nfname = \\'MiniRocketClassifier\\'\\nX_train, y_train, X_test, y_test = get_UCR_data(dsid, Xdtype=\\'float64\\')\\ncls = RocketClassifier()\\ncls.fit(X_train, y_train)\\nprint(cls.score(X_test, y_test))\\ny_true = cls.predict(X_test)\\nprint(precision_score(y_true, y_test, average=\\'micro\\'))\\nprint(confusion_matrix(y_true, y_test))\\nprint(recall_score(y_true, y_test, average=\\'micro\\'))\\n#print(f1_score(y_true, y_test, average=\\'micro\\'))\\n\\nend = time.time()\\nprint(end - start, \"seconds\")\\n'"
      ]
     },
     "execution_count": 4,
     "metadata": {},
     "output_type": "execute_result"
    }
   ],
   "source": [
    "# Multivariate classification with sklearn-type API\n",
    "'''\n",
    "import time\n",
    "start = time.time()\n",
    "\n",
    "dsid = 'NATOPS'\n",
    "fname = 'MiniRocketClassifier'\n",
    "X_train, y_train, X_test, y_test = get_UCR_data(dsid, Xdtype='float64')\n",
    "cls = RocketClassifier()\n",
    "cls.fit(X_train, y_train)\n",
    "print(cls.score(X_test, y_test))\n",
    "y_true = cls.predict(X_test)\n",
    "print(precision_score(y_true, y_test, average='micro'))\n",
    "print(confusion_matrix(y_true, y_test))\n",
    "print(recall_score(y_true, y_test, average='micro'))\n",
    "#print(f1_score(y_true, y_test, average='micro'))\n",
    "\n",
    "end = time.time()\n",
    "print(end - start, \"seconds\")\n",
    "'''"
   ]
  },
  {
   "cell_type": "code",
   "execution_count": 5,
   "id": "42d2f74a",
   "metadata": {},
   "outputs": [
    {
     "data": {
      "text/plain": [
       "'\\nimport time\\nstart = time.time()\\n\\ndsid = \\'NATOPS\\'\\nfname = \\'MiniRocketVotingClassifier\\'\\nX_train, y_train, X_test, y_test = get_UCR_data(dsid, Xdtype=\\'float64\\')\\ncls = RocketClassifier()\\ncls.fit(X_train, y_train)\\nprint(cls.score(X_test, y_test))\\ny_true = cls.predict(X_test)\\ny_true = cls.predict(X_test)\\nprint(precision_score(y_true, y_test, average=\\'micro\\'))\\nprint(confusion_matrix(y_true, y_test))\\nprint(recall_score(y_true, y_test, average=\\'micro\\'))\\n#print(f1_score(y_true, y_test, average=\\'micro\\'))\\n\\nend = time.time()\\nprint(end - start, \"seconds\")\\n'"
      ]
     },
     "execution_count": 5,
     "metadata": {},
     "output_type": "execute_result"
    }
   ],
   "source": [
    "# Multivariate classification with sklearn-type API\n",
    "'''\n",
    "import time\n",
    "start = time.time()\n",
    "\n",
    "dsid = 'NATOPS'\n",
    "fname = 'MiniRocketVotingClassifier'\n",
    "X_train, y_train, X_test, y_test = get_UCR_data(dsid, Xdtype='float64')\n",
    "cls = RocketClassifier()\n",
    "cls.fit(X_train, y_train)\n",
    "print(cls.score(X_test, y_test))\n",
    "y_true = cls.predict(X_test)\n",
    "y_true = cls.predict(X_test)\n",
    "print(precision_score(y_true, y_test, average='micro'))\n",
    "print(confusion_matrix(y_true, y_test))\n",
    "print(recall_score(y_true, y_test, average='micro'))\n",
    "#print(f1_score(y_true, y_test, average='micro'))\n",
    "\n",
    "end = time.time()\n",
    "print(end - start, \"seconds\")\n",
    "'''"
   ]
  },
  {
   "cell_type": "code",
   "execution_count": 6,
   "id": "455f19a5",
   "metadata": {},
   "outputs": [
    {
     "data": {
      "text/html": [
       "<div>\n",
       "<style scoped>\n",
       "    .dataframe tbody tr th:only-of-type {\n",
       "        vertical-align: middle;\n",
       "    }\n",
       "\n",
       "    .dataframe tbody tr th {\n",
       "        vertical-align: top;\n",
       "    }\n",
       "\n",
       "    .dataframe thead th {\n",
       "        text-align: right;\n",
       "    }\n",
       "</style>\n",
       "<table border=\"1\" class=\"dataframe\">\n",
       "  <thead>\n",
       "    <tr style=\"text-align: right;\">\n",
       "      <th></th>\n",
       "      <th>sedentary</th>\n",
       "      <th>LPA</th>\n",
       "      <th>MPA</th>\n",
       "      <th>VPA</th>\n",
       "      <th>steps</th>\n",
       "      <th>active</th>\n",
       "    </tr>\n",
       "  </thead>\n",
       "  <tbody>\n",
       "    <tr>\n",
       "      <th>0</th>\n",
       "      <td>907</td>\n",
       "      <td>107</td>\n",
       "      <td>0</td>\n",
       "      <td>0</td>\n",
       "      <td>3062.0</td>\n",
       "      <td>0</td>\n",
       "    </tr>\n",
       "    <tr>\n",
       "      <th>1</th>\n",
       "      <td>874</td>\n",
       "      <td>94</td>\n",
       "      <td>0</td>\n",
       "      <td>0</td>\n",
       "      <td>1472.0</td>\n",
       "      <td>0</td>\n",
       "    </tr>\n",
       "    <tr>\n",
       "      <th>2</th>\n",
       "      <td>990</td>\n",
       "      <td>59</td>\n",
       "      <td>0</td>\n",
       "      <td>0</td>\n",
       "      <td>610.0</td>\n",
       "      <td>0</td>\n",
       "    </tr>\n",
       "    <tr>\n",
       "      <th>3</th>\n",
       "      <td>740</td>\n",
       "      <td>80</td>\n",
       "      <td>8</td>\n",
       "      <td>4</td>\n",
       "      <td>2177.0</td>\n",
       "      <td>0</td>\n",
       "    </tr>\n",
       "    <tr>\n",
       "      <th>4</th>\n",
       "      <td>816</td>\n",
       "      <td>67</td>\n",
       "      <td>0</td>\n",
       "      <td>0</td>\n",
       "      <td>1690.0</td>\n",
       "      <td>0</td>\n",
       "    </tr>\n",
       "    <tr>\n",
       "      <th>...</th>\n",
       "      <td>...</td>\n",
       "      <td>...</td>\n",
       "      <td>...</td>\n",
       "      <td>...</td>\n",
       "      <td>...</td>\n",
       "      <td>...</td>\n",
       "    </tr>\n",
       "    <tr>\n",
       "      <th>2239</th>\n",
       "      <td>680</td>\n",
       "      <td>171</td>\n",
       "      <td>12</td>\n",
       "      <td>91</td>\n",
       "      <td>15137.0</td>\n",
       "      <td>4</td>\n",
       "    </tr>\n",
       "    <tr>\n",
       "      <th>2240</th>\n",
       "      <td>609</td>\n",
       "      <td>237</td>\n",
       "      <td>42</td>\n",
       "      <td>109</td>\n",
       "      <td>0.0</td>\n",
       "      <td>0</td>\n",
       "    </tr>\n",
       "    <tr>\n",
       "      <th>2241</th>\n",
       "      <td>983</td>\n",
       "      <td>77</td>\n",
       "      <td>11</td>\n",
       "      <td>115</td>\n",
       "      <td>0.0</td>\n",
       "      <td>0</td>\n",
       "    </tr>\n",
       "    <tr>\n",
       "      <th>2242</th>\n",
       "      <td>784</td>\n",
       "      <td>96</td>\n",
       "      <td>20</td>\n",
       "      <td>152</td>\n",
       "      <td>0.0</td>\n",
       "      <td>0</td>\n",
       "    </tr>\n",
       "    <tr>\n",
       "      <th>2243</th>\n",
       "      <td>663</td>\n",
       "      <td>135</td>\n",
       "      <td>29</td>\n",
       "      <td>117</td>\n",
       "      <td>0.0</td>\n",
       "      <td>0</td>\n",
       "    </tr>\n",
       "  </tbody>\n",
       "</table>\n",
       "<p>2244 rows × 6 columns</p>\n",
       "</div>"
      ],
      "text/plain": [
       "      sedentary  LPA  MPA  VPA    steps  active\n",
       "0           907  107    0    0   3062.0       0\n",
       "1           874   94    0    0   1472.0       0\n",
       "2           990   59    0    0    610.0       0\n",
       "3           740   80    8    4   2177.0       0\n",
       "4           816   67    0    0   1690.0       0\n",
       "...         ...  ...  ...  ...      ...     ...\n",
       "2239        680  171   12   91  15137.0       4\n",
       "2240        609  237   42  109      0.0       0\n",
       "2241        983   77   11  115      0.0       0\n",
       "2242        784   96   20  152      0.0       0\n",
       "2243        663  135   29  117      0.0       0\n",
       "\n",
       "[2244 rows x 6 columns]"
      ]
     },
     "execution_count": 6,
     "metadata": {},
     "output_type": "execute_result"
    }
   ],
   "source": [
    "columns = ['sedentary', 'LPA', 'MPA', 'VPA', 'steps', 'active']\n",
    "df = pd.read_csv(r'C:\\Users\\AyanC\\git_ai_projects\\Transaction\\pmdata_processed_15.csv')\n",
    "df = df[columns]\n",
    "df"
   ]
  },
  {
   "cell_type": "code",
   "execution_count": 7,
   "id": "03ab3b91",
   "metadata": {},
   "outputs": [
    {
     "data": {
      "text/plain": [
       "array([[<AxesSubplot:>, <AxesSubplot:>, <AxesSubplot:>],\n",
       "       [<AxesSubplot:>, <AxesSubplot:>, <AxesSubplot:>],\n",
       "       [<AxesSubplot:>, <AxesSubplot:>, <AxesSubplot:>],\n",
       "       [<AxesSubplot:>, <AxesSubplot:>, <AxesSubplot:>]], dtype=object)"
      ]
     },
     "execution_count": 7,
     "metadata": {},
     "output_type": "execute_result"
    },
    {
     "data": {
      "image/png": "[encoded data removed]",
      "text/plain": [
       "<Figure size 1080x1296 with 12 Axes>"
      ]
     },
     "metadata": {
      "needs_background": "light"
     },
     "output_type": "display_data"
    }
   ],
   "source": [
    "df.plot(subplots=True, layout=(4, 3), figsize=(15, 18), sharex=False)"
   ]
  },
  {
   "cell_type": "code",
   "execution_count": 8,
   "id": "f6fa90ba",
   "metadata": {},
   "outputs": [
    {
     "data": {
      "text/plain": [
       "((2244, 5), (2244,))"
      ]
     },
     "execution_count": 8,
     "metadata": {},
     "output_type": "execute_result"
    }
   ],
   "source": [
    "X, y = df.iloc[:, :-1], df.iloc[:, -1]\n",
    "X.shape, y.shape"
   ]
  },
  {
   "cell_type": "code",
   "execution_count": 9,
   "id": "9586651f",
   "metadata": {},
   "outputs": [
    {
     "name": "stdout",
     "output_type": "stream",
     "text": [
      "(1795, 5) (449, 5) (1795,) (449,)\n"
     ]
    }
   ],
   "source": [
    "from sklearn.model_selection import train_test_split\n",
    "import numpy as np\n",
    "\n",
    "X_train, X_test, y_train, y_test = train_test_split(X, y, test_size=0.2, random_state=1)\n",
    "\n",
    "print(X_train.shape, X_test.shape, y_train.shape, y_test.shape)"
   ]
  },
  {
   "cell_type": "code",
   "execution_count": 10,
   "id": "33068d53",
   "metadata": {},
   "outputs": [],
   "source": [
    "X_train = X_train.values.reshape(X_train.shape[0],1,X_train.shape[1])\n",
    "X_test = X_test.values.reshape(X_test.shape[0],1,X_test.shape[1])"
   ]
  },
  {
   "cell_type": "code",
   "execution_count": 11,
   "id": "715bb099",
   "metadata": {},
   "outputs": [
    {
     "data": {
      "text/plain": [
       "418     0.0\n",
       "2024    3.0\n",
       "444     4.0\n",
       "280     3.0\n",
       "368     3.0\n",
       "       ... \n",
       "549     0.0\n",
       "351     3.0\n",
       "1146    4.0\n",
       "1546    4.0\n",
       "994     2.0\n",
       "Name: active, Length: 449, dtype: float64"
      ]
     },
     "execution_count": 11,
     "metadata": {},
     "output_type": "execute_result"
    }
   ],
   "source": [
    "X_train.astype('float64')\n",
    "X_test.astype('float64')\n",
    "y_train.astype('float64')\n",
    "y_test.astype('float64')"
   ]
  },
  {
   "cell_type": "code",
   "execution_count": 12,
   "id": "17f76e25",
   "metadata": {},
   "outputs": [
    {
     "name": "stdout",
     "output_type": "stream",
     "text": [
      "(1795, 1, 5) (449, 1, 5) (1795,) (449,)\n",
      "[0.52367688 0.36768802 0.49303621 0.49860724 0.47075209]\n",
      "0.47075208913649025\n",
      "accuracy 0.5634743875278396\n",
      "[[ 96  11   4   0  10]\n",
      " [  3  19  11   3  19]\n",
      " [  7  10   7   1  37]\n",
      " [  2  12   3   1  35]\n",
      " [  2  13  10   3 130]]\n",
      "              precision    recall  f1-score   support\n",
      "\n",
      "           0       0.87      0.79      0.83       121\n",
      "           1       0.29      0.35      0.32        55\n",
      "           2       0.20      0.11      0.14        62\n",
      "           3       0.12      0.02      0.03        53\n",
      "           4       0.56      0.82      0.67       158\n",
      "\n",
      "    accuracy                           0.56       449\n",
      "   macro avg       0.41      0.42      0.40       449\n",
      "weighted avg       0.51      0.56      0.52       449\n",
      "\n",
      "0.5634743875278396\n",
      "[[ 96  11   4   0  10]\n",
      " [  3  19  11   3  19]\n",
      " [  7  10   7   1  37]\n",
      " [  2  12   3   1  35]\n",
      " [  2  13  10   3 130]]\n",
      "0.5634743875278396\n",
      "22.562317371368408 seconds\n"
     ]
    }
   ],
   "source": [
    "#RocketClassifier\n",
    "start = time.time()\n",
    "\n",
    "print(X_train.shape, X_test.shape, y_train.shape, y_test.shape)\n",
    "\n",
    "cls = RocketClassifier()\n",
    "cls.fit(X_train, y_train)\n",
    "\n",
    "#print(cls.score(X_test, y_test))\n",
    "\n",
    "scores = cross_val_score(cls, X_train, y_train, cv=5, scoring='accuracy')\n",
    "print (scores)\n",
    "\n",
    "avg_score = np.mean(scores)\n",
    "print(avg_score)\n",
    "\n",
    "y_pred = cls.predict(X_test)\n",
    "\n",
    "print(\"accuracy\", accuracy_score(y_test, y_pred))\n",
    "#print(sklearn.metrics.roc_auc_score(y_test,y_pred))\n",
    "print(sklearn.metrics.confusion_matrix(y_test,y_pred))\n",
    "print(sklearn.metrics.classification_report(y_test,y_pred))\n",
    "\n",
    "print(precision_score(y_test,y_pred, average='micro'))\n",
    "print(confusion_matrix(y_test,y_pred))\n",
    "print(recall_score(y_test,y_pred, average='micro'))\n",
    "\n",
    "end = time.time()\n",
    "print(end - start, \"seconds\")"
   ]
  },
  {
   "cell_type": "code",
   "execution_count": 13,
   "id": "c7b868b2",
   "metadata": {},
   "outputs": [
    {
     "name": "stdout",
     "output_type": "stream",
     "text": [
      "(1799, 5, 9) (449, 1, 5) (1799,) (449,)\n"
     ]
    }
   ],
   "source": [
    "X_train = np.pad(X_train, (0, 4), 'constant')\n",
    "y_train = np.pad(y_train, (0, 4), 'constant')\n",
    "\n",
    "print(X_train.shape, X_test.shape, y_train.shape, y_test.shape)"
   ]
  },
  {
   "cell_type": "code",
   "execution_count": 14,
   "id": "7c2ddb84",
   "metadata": {},
   "outputs": [
    {
     "name": "stdout",
     "output_type": "stream",
     "text": [
      "[0.92777778 0.92777778 0.95       0.92222222 0.91922006]\n",
      "0.9293995666976169\n",
      "accuracy 0.31625835189309576\n",
      "[[ 19   0 101   1   0]\n",
      " [  0   0  53   1   1]\n",
      " [  0   0  57   4   1]\n",
      " [  0   0  31  20   2]\n",
      " [  0   0  88  24  46]]\n",
      "              precision    recall  f1-score   support\n",
      "\n",
      "           0       1.00      0.16      0.27       121\n",
      "           1       0.00      0.00      0.00        55\n",
      "           2       0.17      0.92      0.29        62\n",
      "           3       0.40      0.38      0.39        53\n",
      "           4       0.92      0.29      0.44       158\n",
      "\n",
      "    accuracy                           0.32       449\n",
      "   macro avg       0.50      0.35      0.28       449\n",
      "weighted avg       0.66      0.32      0.31       449\n",
      "\n",
      "0.31625835189309576\n",
      "[[ 19   0 101   1   0]\n",
      " [  0   0  53   1   1]\n",
      " [  0   0  57   4   1]\n",
      " [  0   0  31  20   2]\n",
      " [  0   0  88  24  46]]\n",
      "0.31625835189309576\n",
      "10.268721580505371 seconds\n"
     ]
    },
    {
     "name": "stderr",
     "output_type": "stream",
     "text": [
      "c:\\users\\ayanc\\appdata\\local\\programs\\python\\python36\\lib\\site-packages\\sklearn\\metrics\\_classification.py:1248: UndefinedMetricWarning: Precision and F-score are ill-defined and being set to 0.0 in labels with no predicted samples. Use `zero_division` parameter to control this behavior.\n",
      "  _warn_prf(average, modifier, msg_start, len(result))\n",
      "c:\\users\\ayanc\\appdata\\local\\programs\\python\\python36\\lib\\site-packages\\sklearn\\metrics\\_classification.py:1248: UndefinedMetricWarning: Precision and F-score are ill-defined and being set to 0.0 in labels with no predicted samples. Use `zero_division` parameter to control this behavior.\n",
      "  _warn_prf(average, modifier, msg_start, len(result))\n",
      "c:\\users\\ayanc\\appdata\\local\\programs\\python\\python36\\lib\\site-packages\\sklearn\\metrics\\_classification.py:1248: UndefinedMetricWarning: Precision and F-score are ill-defined and being set to 0.0 in labels with no predicted samples. Use `zero_division` parameter to control this behavior.\n",
      "  _warn_prf(average, modifier, msg_start, len(result))\n"
     ]
    }
   ],
   "source": [
    "#MiniRocketClassifier\n",
    "start = time.time()\n",
    "\n",
    "cls = MiniRocketClassifier()\n",
    "cls.fit(X_train, y_train)\n",
    "\n",
    "#print(cls.score(X_test, y_test))\n",
    "\n",
    "scores = cross_val_score(cls, X_train, y_train, cv=5, scoring='accuracy')\n",
    "print (scores)\n",
    "\n",
    "avg_score = np.mean(scores)\n",
    "print(avg_score)\n",
    "\n",
    "y_pred = cls.predict(X_test)\n",
    "\n",
    "print(\"accuracy\", accuracy_score(y_test, y_pred))\n",
    "#print(sklearn.metrics.roc_auc_score(y_test,y_pred))\n",
    "print(sklearn.metrics.confusion_matrix(y_test,y_pred))\n",
    "print(sklearn.metrics.classification_report(y_test,y_pred))\n",
    "\n",
    "print(precision_score(y_test,y_pred, average='micro'))\n",
    "print(confusion_matrix(y_test,y_pred))\n",
    "print(recall_score(y_test,y_pred, average='micro'))\n",
    "\n",
    "end = time.time()\n",
    "print(end - start, \"seconds\")"
   ]
  },
  {
   "cell_type": "code",
   "execution_count": 15,
   "id": "0134fcd9",
   "metadata": {},
   "outputs": [
    {
     "name": "stdout",
     "output_type": "stream",
     "text": [
      "[0.91944444 0.93055556 0.94722222 0.91388889 0.92200557]\n",
      "0.9266233364283505\n",
      "accuracy 0.41648106904231624\n",
      "[[84 36  0  1  0]\n",
      " [10 39  0  5  1]\n",
      " [31 16  0 11  4]\n",
      " [13 19  0 10 11]\n",
      " [38 37  0 29 54]]\n",
      "              precision    recall  f1-score   support\n",
      "\n",
      "           0       0.48      0.69      0.57       121\n",
      "           1       0.27      0.71      0.39        55\n",
      "           2       0.00      0.00      0.00        62\n",
      "           3       0.18      0.19      0.18        53\n",
      "           4       0.77      0.34      0.47       158\n",
      "\n",
      "    accuracy                           0.42       449\n",
      "   macro avg       0.34      0.39      0.32       449\n",
      "weighted avg       0.45      0.42      0.39       449\n",
      "\n",
      "0.41648106904231624\n",
      "[[84 36  0  1  0]\n",
      " [10 39  0  5  1]\n",
      " [31 16  0 11  4]\n",
      " [13 19  0 10 11]\n",
      " [38 37  0 29 54]]\n",
      "0.41648106904231624\n",
      "10.179983377456665 seconds\n"
     ]
    },
    {
     "name": "stderr",
     "output_type": "stream",
     "text": [
      "c:\\users\\ayanc\\appdata\\local\\programs\\python\\python36\\lib\\site-packages\\sklearn\\metrics\\_classification.py:1248: UndefinedMetricWarning: Precision and F-score are ill-defined and being set to 0.0 in labels with no predicted samples. Use `zero_division` parameter to control this behavior.\n",
      "  _warn_prf(average, modifier, msg_start, len(result))\n",
      "c:\\users\\ayanc\\appdata\\local\\programs\\python\\python36\\lib\\site-packages\\sklearn\\metrics\\_classification.py:1248: UndefinedMetricWarning: Precision and F-score are ill-defined and being set to 0.0 in labels with no predicted samples. Use `zero_division` parameter to control this behavior.\n",
      "  _warn_prf(average, modifier, msg_start, len(result))\n",
      "c:\\users\\ayanc\\appdata\\local\\programs\\python\\python36\\lib\\site-packages\\sklearn\\metrics\\_classification.py:1248: UndefinedMetricWarning: Precision and F-score are ill-defined and being set to 0.0 in labels with no predicted samples. Use `zero_division` parameter to control this behavior.\n",
      "  _warn_prf(average, modifier, msg_start, len(result))\n"
     ]
    }
   ],
   "source": [
    "#MiniRocketVotingClassifier\n",
    "start = time.time()\n",
    "\n",
    "cls = MiniRocketClassifier()\n",
    "cls.fit(X_train, y_train)\n",
    "\n",
    "#print(cls.score(X_test, y_test))\n",
    "\n",
    "scores = cross_val_score(cls, X_train, y_train, cv=5, scoring='accuracy')\n",
    "print (scores)\n",
    "\n",
    "avg_score = np.mean(scores)\n",
    "print(avg_score)\n",
    "\n",
    "y_pred = cls.predict(X_test)\n",
    "\n",
    "print(\"accuracy\", accuracy_score(y_test, y_pred))\n",
    "#print(sklearn.metrics.roc_auc_score(y_test,y_pred))\n",
    "print(sklearn.metrics.confusion_matrix(y_test,y_pred))\n",
    "print(sklearn.metrics.classification_report(y_test,y_pred))\n",
    "\n",
    "print(precision_score(y_test,y_pred, average='micro'))\n",
    "print(confusion_matrix(y_test,y_pred))\n",
    "print(recall_score(y_test,y_pred, average='micro'))\n",
    "\n",
    "end = time.time()\n",
    "print(end - start, \"seconds\")"
   ]
  }
 ],
 "metadata": {
  "kernelspec": {
   "display_name": "Python 3",
   "language": "python",
   "name": "python3"
  },
  "language_info": {
   "codemirror_mode": {
    "name": "ipython",
    "version": 3
   },
   "file_extension": ".py",
   "mimetype": "text/x-python",
   "name": "python",
   "nbconvert_exporter": "python",
   "pygments_lexer": "ipython3",
   "version": "3.6.6"
  }
 },
 "nbformat": 4,
 "nbformat_minor": 5
}
